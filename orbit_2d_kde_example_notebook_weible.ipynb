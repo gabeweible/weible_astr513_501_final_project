{
 "cells": [
  {
   "cell_type": "markdown",
   "id": "0e420e98",
   "metadata": {},
   "source": [
    "# Setup"
   ]
  },
  {
   "cell_type": "code",
   "execution_count": 1,
   "id": "c4fecb9d-fd62-4b59-a99a-21c3bff545be",
   "metadata": {},
   "outputs": [],
   "source": [
    "dpi=150\n",
    "lw=2\n",
    "size_fac=5.25\n",
    "fftkde_res=2**22 # less than default\n"
   ]
  },
  {
   "cell_type": "code",
   "execution_count": 2,
   "id": "275dca79",
   "metadata": {},
   "outputs": [],
   "source": [
    "import h5py # h5py\n",
    "import numpy as np # numpy\n",
    "import os # os\n",
    "from multiprocessing import cpu_count, Pool # multiprocessing\n",
    "import gc # garbage collection\n",
    "import pandas as pd # pandas\n",
    "from PIL import ImageColor # pillow\n",
    "import cv2 # opencv\n",
    "from tqdm import tqdm\n",
    "from numba import jit, prange\n",
    "import random\n",
    "from numba_progress import ProgressBar\n",
    "\n",
    " # scipy\n",
    "from scipy import stats\n",
    "from scipy.integrate import simpson\n",
    "from scipy import linalg as la\n",
    "\n",
    "# astropy\n",
    "from astropy.visualization import hist\n",
    "import astropy.constants as c\n",
    "import astropy.units as u\n",
    "\n",
    "# uncertainties\n",
    "from uncertainties import ufloat\n",
    "from uncertainties.umath import *\n",
    "import uncertainties.unumpy as unp\n",
    "\n",
    "# matplotlib\n",
    "import matplotlib.pyplot as plt\n",
    "from matplotlib import rc\n",
    "import matplotlib as mpl\n",
    "from matplotlib import rcParams\n",
    "rcParams.update(mpl.rcParamsDefault)\n",
    "plt.rcParams['figure.dpi'] = dpi\n",
    "plt.rcParams['savefig.dpi'] = dpi\n",
    "rc('text', usetex=True)\n",
    "rc('font', size=12)\n",
    "rc('legend', fontsize=12)\n",
    "plt.rcParams['text.latex.preamble'] = r\"\"\"\\usepackage{bm} \\usepackage{amsmath} \\usepackage{cmbright}\n",
    "    \\usepackage{siunitx} \\usepackage{lmodern} \\usepackage{sfmath} \\sffamily \\boldmath\"\"\"\n",
    "from matplotlib import rcParams\n",
    "import matplotlib.font_manager as font_manager\n",
    "fontleg = font_manager.FontProperties(weight='bold') # bold legends\n",
    "mpl.rcParams['xtick.major.pad'] = 14 * 1.5\n",
    "mpl.rcParams['ytick.major.pad'] = 14 * 1.5\n",
    "\n",
    "# orbitize, + my plotting code\n",
    "import orbitize\n",
    "from orbitize import read_input, priors, driver, system, sampler, results\n",
    "\n",
    "# my functions!\n",
    "from modified_plot import *\n",
    "from fftkde_cred_int import *\n",
    "from parallel_plots import generate_corner_plots\n",
    "\n",
    "# KDEpy\n",
    "from KDEpy import FFTKDE\n",
    "from KDEpy.bw_selection import silvermans_rule, improved_sheather_jones\n",
    "\n",
    "# Constants\n",
    "PI = np.pi\n"
   ]
  },
  {
   "cell_type": "code",
   "execution_count": 3,
   "id": "54fde7f0",
   "metadata": {},
   "outputs": [],
   "source": [
    "my_colors = [\"#0d0887\",\"#2c0594\",\"#43039e\",\"#5901a5\",\"#6e00a8\",\"#8305a7\",\"#9511a1\",\"#a72197\",\n",
    "          \"#b6308b\",\"#c5407e\",\"#d14e72\",\"#dd5e66\",\"#e76e5b\",\"#f07f4f\",\"#f79044\",\"#fca338\",\n",
    "          \"#feb72d\",\"#fccd25\"]\n",
    "\n",
    "# Configure matplotlib once\n",
    "configure_matplotlib(dpi, size_fac)\n"
   ]
  },
  {
   "cell_type": "code",
   "execution_count": 4,
   "id": "4e0d903c-d361-48df-a66e-141db6608495",
   "metadata": {},
   "outputs": [],
   "source": [
    "def redistribute_rgb(r, g, b):\n",
    "    threshold = 255.999\n",
    "    m = max(r, g, b)\n",
    "    if m <= threshold:\n",
    "        return int(r), int(g), int(b)\n",
    "    total = r + g + b\n",
    "    if total >= 3 * threshold:\n",
    "        return int(threshold), int(threshold), int(threshold)\n",
    "    x = (3 * threshold - total) / (3 * m - total)\n",
    "    gray = threshold - x * m\n",
    "    return int(gray + x * r), int(gray + x * g), int(gray + x * b)\n",
    "\n",
    "my_colors_rgb = np.array([mpl.colors.to_rgb(my_colors[i]) for i in range(len(my_colors))])\n",
    "\n",
    " # multiply to brighten\n",
    "my_lighter_colors = np.array([my_colors_rgb[i] * 255 * np.logspace(np.log10(2.2), np.log10(1.0), len(my_colors))[i] for i in range(len(my_colors))])\n",
    "\n",
    "# redistribute with function above to maintain hue\n",
    "my_lighter_colors = np.array([redistribute_rgb(*my_lighter_colors[i])\n",
    "                               for i in range(len(my_colors))])\n",
    "my_lighter_colors = my_lighter_colors / 255\n"
   ]
  },
  {
   "cell_type": "markdown",
   "id": "7c72fa8b",
   "metadata": {},
   "source": [
    "Now we have imported orbitize, and entered the name of our CSV data file containing relative astrometry for all of the relevant epochs"
   ]
  },
  {
   "cell_type": "markdown",
   "id": "4c93426e",
   "metadata": {},
   "source": [
    "## System mass (by component and total)"
   ]
  },
  {
   "cell_type": "code",
   "execution_count": 5,
   "id": "4331cb46",
   "metadata": {},
   "outputs": [
    {
     "name": "stdout",
     "output_type": "stream",
     "text": [
      "Total mass of hii1348 with both uncertainties: 1.28+/-0.09 M_Sol\n",
      "\n",
      "M_B = 0.0601+/-0.0029 M_Sol\n",
      "\n",
      "Error on total mass of hii1348: 0.09004555098039961 M_sol\n",
      "\n",
      "Nominal total mass of hii1348: 1.2801394367400674 M_sol\n"
     ]
    }
   ],
   "source": [
    "# both in solar masses\n",
    "m_A = ufloat(1.22, 0.09)\n",
    "m_B = ufloat(63, 3) * u.Mjup.to(u.Msun)\n",
    "\n",
    "m_tot_prime = m_A + m_B\n",
    "print(f\"\"\"Total mass of hii1348 with both uncertainties: {m_tot_prime} M_Sol\"\"\")\n",
    "print()\n",
    "print(f\"\"\"M_B = {m_B} M_Sol\"\"\")\n",
    "\n",
    "m_tot_err = np.sqrt(m_A.s**2 + m_B.s**2)\n",
    "print()\n",
    "print(f\"\"\"Error on total mass of hii1348: {m_tot_err} M_sol\"\"\")\n",
    "\n",
    "m_tot = m_A.n + m_B.n\n",
    "print()\n",
    "print(f\"\"\"Nominal total mass of hii1348: {m_tot} M_sol\"\"\")\n"
   ]
  },
  {
   "cell_type": "code",
   "execution_count": 6,
   "id": "6f2f321d",
   "metadata": {},
   "outputs": [],
   "source": [
    "path_to_file = 'hii1348b_orbitize_data.csv'\n",
    "data = read_input.read_file(path_to_file)"
   ]
  },
  {
   "cell_type": "markdown",
   "id": "010f92b8-cf94-4509-b5c7-a15c9a3f63e4",
   "metadata": {},
   "source": [
    "Old run from September"
   ]
  },
  {
   "cell_type": "code",
   "execution_count": 7,
   "id": "0860b3ed",
   "metadata": {},
   "outputs": [],
   "source": [
    "# From Blunt+ 2023 paper on HIP 65426 b\n",
    "# Also, \"emcee\" settings: cite this?\n",
    "\"\"\"\n",
    "These are the MCMC parameters I'd use if I were publishing this fit.\n",
    "This would take a while to run (takes about a day on my machine).\n",
    "\"\"\" # (https://orbitize.readthedocs.io/en/latest/tutorials/Hipparcos_IAD.html#Part-3:-Using-the-IAD-in-your-Orbit-fit)\n",
    "num_temps = 20\n",
    "num_walkers = 1_000\n",
    "num_orbits = 30_000_000\n",
    "n_steps = num_orbits / num_walkers\n",
    "\n",
    "burn_steps = 30_000\n",
    "thin = 3\n",
    "# num_threads = mp.cpu_count()\n",
    "num_secondary_bodies = 1\n",
    "\n",
    "plx = 6.979\n",
    "plx_err = 0.0305\n",
    "\n",
    "myDriver = driver.Driver(\n",
    "    path_to_file.format(orbitize.DATADIR),\n",
    "    'MCMC',            # 'OFTI' or 'MCMC'\n",
    "    num_secondary_bodies, # number of planets in the system (here, a star)\n",
    "    m_tot_prime.n,     # Procyon A nominal mass\n",
    "    plx,             # System parallax in mas from SIMBAD\n",
    "    mass_err=m_tot_prime.s,    # Mass error\n",
    "    plx_err=plx_err,     # Parallax error in mas from SIMBAD\n",
    "    system_kwargs={\n",
    "        \"restrict_angle_ranges\": True\n",
    "    },\n",
    "    mcmc_kwargs={\n",
    "         \"num_temps\": num_temps,\n",
    "         \"num_walkers\": num_walkers,\n",
    "         # \"num_threads\": num_threads\n",
    "    }\n",
    ")\n",
    "\n",
    "# system, parameter labels\n",
    "sys = myDriver.system\n",
    "lab = sys.param_idx\n",
    "\n",
    "s = myDriver.sampler\n"
   ]
  },
  {
   "cell_type": "markdown",
   "id": "f66a5bef",
   "metadata": {},
   "source": [
    "## Read-in Results"
   ]
  },
  {
   "cell_type": "code",
   "execution_count": 8,
   "id": "00ef51c3",
   "metadata": {},
   "outputs": [],
   "source": [
    "save_file = 'hii_1348b_30M_orbits_MCMC_OFTI_walker_pos_30_000_burn_in.hdf5'# 'orbits_OFTI_final.hdf5'\n",
    "sampler='MCMC_30M_final'\n",
    "\n",
    "hf = h5py.File(save_file, \"r\")  # Opens file for reading\n",
    "# Load up each dataset from hdf5 file\n",
    "sampler_name = str(hf.attrs[\"sampler_name\"])\n",
    "post = np.array(hf.get(\"post\"))\n",
    "lnlike = np.array(hf.get(\"lnlike\"))\n",
    "hf.close()  # Don't forget to close the file\n",
    "\n",
    "orbits = np.array(random.sample(list(post), 1_000_000))# reduce by 100x for easier calc.\n",
    "\n",
    "# fractional height of value annotations\n",
    "annotation_y_frac = 0.75\n",
    "\n",
    "# orbits now has the orbital elements of each orbit\n",
    "sma = orbits[:,0] # semi-major axis\n",
    "ecc = orbits[:,1] # eccentricity\n",
    "inc = orbits[:,2] * (180/PI) # inclination\n",
    "omega = orbits[:,3] * (180/PI) # position angle of nodes\n",
    "pan = orbits[:,4] * (180/PI) # position angle of nodes in rad\n",
    "tau = orbits[:,5] # epoch of periastron passage\n",
    "plx = orbits[:,6]\n",
    "mtot = orbits[:,7]\n",
    "\n",
    "# put these all into an array\n",
    "adjusted_units_orbits = np.array([sma, ecc, inc, omega, pan, tau, plx, mtot])\n",
    "\n",
    "# orbital period\n",
    "period = np.sqrt(\n",
    "    4 * np.pi**2.0 * (sma * u.AU)** 3 / (c.G * (mtot * u.Msun))\n",
    ")\n",
    "period = period.to(u.year).value\n"
   ]
  },
  {
   "cell_type": "markdown",
   "id": "234fa40f-2474-4788-a92f-bf64c64afed1",
   "metadata": {},
   "source": [
    "# Reported Values"
   ]
  },
  {
   "cell_type": "markdown",
   "id": "bcc73774",
   "metadata": {},
   "source": [
    "## Mean and STDEV Values:"
   ]
  },
  {
   "cell_type": "code",
   "execution_count": 9,
   "id": "45dfcc7c",
   "metadata": {},
   "outputs": [
    {
     "name": "stdout",
     "output_type": "stream",
     "text": [
      "Mean +- STDEV Parameters fit by MCMC:\n",
      "----------------------------------------\n",
      "\n",
      "sma1 = 316.75270 +- 426.24558\n",
      "ecc1 = 0.61032 +- 0.21974\n",
      "inc1 = 129.69887 +- 17.54177\n",
      "aop1 = 152.22447 +- 132.09088\n",
      "pan1 = 125.66291 +- 40.82198\n",
      "tau1 = 0.82990 +- 0.17278\n",
      "plx = 6.97915 +- 0.03061\n",
      "mtot = 1.28714 +- 0.08968\n",
      "\n",
      "\n",
      "Computed parameters from some of the above fitted parameters:\n",
      "-------------------------------------------------------------\n",
      "\n",
      "period = 7079.18301 +- 24809.00837\n"
     ]
    }
   ],
   "source": [
    "print('Mean +- STDEV Parameters fit by MCMC:')\n",
    "print('----------------------------------------\\n')\n",
    "means_and_stds = []\n",
    "for i,element_name in enumerate(lab.keys()):\n",
    "    \n",
    "    element = adjusted_units_orbits[i]\n",
    "    element_mean = np.mean(element)\n",
    "    element_std = np.std(element, ddof=1)\n",
    "    \n",
    "    print(f'{element_name} = {element_mean:.5f} +- {element_std:.5f}')\n",
    "    means_and_stds.append(ufloat(element_mean, element_std))\n",
    "    \n",
    "means_and_stds = np.array(means_and_stds)\n",
    "\n",
    "\n",
    "print('\\n\\nComputed parameters from some of the above fitted parameters:')\n",
    "print('-------------------------------------------------------------\\n')\n",
    "\n",
    "# orbital period from Kepler's third law (not a fitted parameter directly)\n",
    "period_mean = np.mean(period)\n",
    "period_std = np.std(period, ddof=1)\n",
    "print(f'period = {period_mean:.5f} +- {period_std:.5f}')# years\n",
    "\n"
   ]
  },
  {
   "cell_type": "markdown",
   "id": "3a099de6",
   "metadata": {},
   "source": [
    "## Med and MAD:"
   ]
  },
  {
   "cell_type": "code",
   "execution_count": 10,
   "id": "6b775717",
   "metadata": {},
   "outputs": [
    {
     "name": "stdout",
     "output_type": "stream",
     "text": [
      "Median +- MAD Parameters fit by MCMC:\n",
      "----------------------------------------\n",
      "\n",
      "sma1 = 205.36358 +- 59.59500\n",
      "ecc1 = 0.65636 +- 0.15121\n",
      "inc1 = 126.56662 +- 12.64358\n",
      "aop1 = 90.63126 +- 73.55633\n",
      "pan1 = 137.59736 +- 15.15213\n",
      "tau1 = 0.85648 +- 0.06043\n",
      "plx = 6.97917 +- 0.02096\n",
      "mtot = 1.28806 +- 0.06043\n",
      "\n",
      "\n",
      "Computed parameters from some of the above fitted parameters:\n",
      "-------------------------------------------------------------\n",
      "\n",
      "period = 2597.52183 +- 1080.14525\n"
     ]
    }
   ],
   "source": [
    "print('Median +- MAD Parameters fit by MCMC:')\n",
    "print('----------------------------------------\\n')\n",
    "meds_and_mads = []\n",
    "for i,element_name in enumerate(lab.keys()):\n",
    "    \n",
    "    element = adjusted_units_orbits[i]\n",
    "    element_med = np.median(element)\n",
    "    element_mad = stats.median_abs_deviation(element)\n",
    "    \n",
    "    print(f'{element_name} = {element_med:.5f} +- {element_mad:.5f}')\n",
    "    meds_and_mads.append(ufloat(element_med, element_mad))\n",
    "    \n",
    "meds_and_mads = np.array(meds_and_mads)\n",
    "\n",
    "\n",
    "print('\\n\\nComputed parameters from some of the above fitted parameters:')\n",
    "print('-------------------------------------------------------------\\n')\n",
    "\n",
    "# orbital period from Kepler's third law (not a fitted parameter directly)\n",
    "period_med = np.median(period)\n",
    "period_mad = stats.median_abs_deviation(period)\n",
    "print(f'period = {period_med:.5f} +- {period_mad:.5f}')# years\n"
   ]
  },
  {
   "cell_type": "markdown",
   "id": "5b9e106d",
   "metadata": {},
   "source": [
    "## Most Likely Orbit Values (not posterior):"
   ]
  },
  {
   "cell_type": "code",
   "execution_count": 11,
   "id": "be92792a",
   "metadata": {},
   "outputs": [
    {
     "name": "stdout",
     "output_type": "stream",
     "text": [
      "[4.53965297e+02 7.16835510e-01 2.01351306e+00 7.70129585e-02\n",
      " 2.11207291e+00 9.32718889e-01 6.99996331e+00 1.39132620e+00]\n"
     ]
    }
   ],
   "source": [
    "max_log_like_post_i = np.where(lnlike == np.amax(lnlike))[0][0]\n",
    "best_post = post[max_log_like_post_i].copy()\n",
    "print(best_post)\n",
    "\n",
    "best_post[2] *= 180 / np.pi # rad to deg inc\n",
    "best_post[3] *= 180 / np.pi # rad to deg aop\n",
    "best_post[4] *= 180 / np.pi # rad to deg pan"
   ]
  },
  {
   "cell_type": "code",
   "execution_count": 12,
   "id": "2eb96bac",
   "metadata": {},
   "outputs": [
    {
     "name": "stdout",
     "output_type": "stream",
     "text": [
      "Parameters fit by MCMC (parallax fixed):\n",
      "----------------------------------------\n",
      "\n",
      "Max. log-likelihood orbit sma1 = 453.96530\n",
      "Max. log-likelihood orbit ecc1 = 0.71684\n",
      "Max. log-likelihood orbit inc1 = 115.36580\n",
      "Max. log-likelihood orbit aop1 = 4.41252\n",
      "Max. log-likelihood orbit pan1 = 121.01286\n",
      "Max. log-likelihood orbit tau1 = 0.93272\n",
      "Max. log-likelihood orbit plx = 6.99996\n",
      "Max. log-likelihood orbit mtot = 1.39133\n",
      "\n",
      "\n",
      "Computed parameters from some of the above fitted parameters:\n",
      "-------------------------------------------------------------\n",
      "\n",
      "Max. log-likelihood orbit period = 8200.26152\n"
     ]
    }
   ],
   "source": [
    "best_sma = best_post[0] # semi-major axis\n",
    "best_ecc = best_post[1] # eccentricity\n",
    "best_inc = best_post[2] # inclination\n",
    "best_omega = best_post[3] # argument of periastron\n",
    "best_pan = best_post[4] # position angle of nodes in rad\n",
    "best_tau = best_post[5] # epoch of periastron passage\n",
    "best_plx = best_post[6] # parallax\n",
    "best_mtot = best_post[7]# RV offset\n",
    "\n",
    "print('Parameters fit by MCMC (parallax fixed):')\n",
    "print('----------------------------------------\\n')\n",
    "# loop  through the best posterior elements (max. likelihood orbit)\n",
    "for i,element_name in enumerate(lab.keys()):\n",
    "    # find and print these best elements (adjusted for rad => degrees already)\n",
    "    print(f'Max. log-likelihood orbit {element_name} = {best_post[i]:.5f}')\n",
    "\n",
    "# computed:\n",
    "#----------\n",
    "# orbital period\n",
    "best_period = np.sqrt(\n",
    "    4 * np.pi**2.0 * (best_sma * u.AU)** 3 / (c.G * (best_mtot * u.Msun))\n",
    ")\n",
    "best_period = best_period.to(u.year).value\n",
    "\n",
    "print('\\n\\nComputed parameters from some of the above fitted parameters:')\n",
    "print('-------------------------------------------------------------\\n')\n",
    "\n",
    "# orbital period from Kepler's third law (not a fitted parameter directly)\n",
    "print(f'Max. log-likelihood orbit period = {best_period:.5f}')# years\n"
   ]
  },
  {
   "cell_type": "markdown",
   "id": "43d5c162",
   "metadata": {},
   "source": [
    "# Posterior Histograms/KDEs"
   ]
  },
  {
   "cell_type": "code",
   "execution_count": 13,
   "id": "e265d882-ffba-4c09-ab97-8d4bfc40354e",
   "metadata": {},
   "outputs": [
    {
     "data": {
      "text/html": [
       "<div>\n",
       "<style scoped>\n",
       "    .dataframe tbody tr th:only-of-type {\n",
       "        vertical-align: middle;\n",
       "    }\n",
       "\n",
       "    .dataframe tbody tr th {\n",
       "        vertical-align: top;\n",
       "    }\n",
       "\n",
       "    .dataframe thead th {\n",
       "        text-align: right;\n",
       "    }\n",
       "</style>\n",
       "<table border=\"1\" class=\"dataframe\">\n",
       "  <thead>\n",
       "    <tr style=\"text-align: right;\">\n",
       "      <th>fftkde_plot_param</th>\n",
       "      <th>element_str</th>\n",
       "      <th>var</th>\n",
       "      <th>unit</th>\n",
       "      <th>xlabel</th>\n",
       "      <th>annotation_str</th>\n",
       "      <th>min</th>\n",
       "      <th>max</th>\n",
       "      <th>xlim</th>\n",
       "      <th>ann_x_frac</th>\n",
       "      <th>min_mirror</th>\n",
       "      <th>max_mirror</th>\n",
       "      <th>circ_param</th>\n",
       "      <th>fit_log</th>\n",
       "      <th>interp_pc</th>\n",
       "      <th>n_nom</th>\n",
       "      <th>n_errp</th>\n",
       "      <th>n_errm</th>\n",
       "      <th>ann_nom_add</th>\n",
       "      <th>peak</th>\n",
       "    </tr>\n",
       "  </thead>\n",
       "  <tbody>\n",
       "    <tr>\n",
       "      <th>sma1</th>\n",
       "      <td>None</td>\n",
       "      <td>None</td>\n",
       "      <td>None</td>\n",
       "      <td>None</td>\n",
       "      <td>None</td>\n",
       "      <td>None</td>\n",
       "      <td>None</td>\n",
       "      <td>None</td>\n",
       "      <td>None</td>\n",
       "      <td>None</td>\n",
       "      <td>None</td>\n",
       "      <td>None</td>\n",
       "      <td>None</td>\n",
       "      <td>None</td>\n",
       "      <td>None</td>\n",
       "      <td>None</td>\n",
       "      <td>None</td>\n",
       "      <td>None</td>\n",
       "      <td>None</td>\n",
       "    </tr>\n",
       "    <tr>\n",
       "      <th>ecc1</th>\n",
       "      <td>None</td>\n",
       "      <td>None</td>\n",
       "      <td>None</td>\n",
       "      <td>None</td>\n",
       "      <td>None</td>\n",
       "      <td>None</td>\n",
       "      <td>None</td>\n",
       "      <td>None</td>\n",
       "      <td>None</td>\n",
       "      <td>None</td>\n",
       "      <td>None</td>\n",
       "      <td>None</td>\n",
       "      <td>None</td>\n",
       "      <td>None</td>\n",
       "      <td>None</td>\n",
       "      <td>None</td>\n",
       "      <td>None</td>\n",
       "      <td>None</td>\n",
       "      <td>None</td>\n",
       "    </tr>\n",
       "    <tr>\n",
       "      <th>inc1</th>\n",
       "      <td>None</td>\n",
       "      <td>None</td>\n",
       "      <td>None</td>\n",
       "      <td>None</td>\n",
       "      <td>None</td>\n",
       "      <td>None</td>\n",
       "      <td>None</td>\n",
       "      <td>None</td>\n",
       "      <td>None</td>\n",
       "      <td>None</td>\n",
       "      <td>None</td>\n",
       "      <td>None</td>\n",
       "      <td>None</td>\n",
       "      <td>None</td>\n",
       "      <td>None</td>\n",
       "      <td>None</td>\n",
       "      <td>None</td>\n",
       "      <td>None</td>\n",
       "      <td>None</td>\n",
       "    </tr>\n",
       "    <tr>\n",
       "      <th>aop1</th>\n",
       "      <td>None</td>\n",
       "      <td>None</td>\n",
       "      <td>None</td>\n",
       "      <td>None</td>\n",
       "      <td>None</td>\n",
       "      <td>None</td>\n",
       "      <td>None</td>\n",
       "      <td>None</td>\n",
       "      <td>None</td>\n",
       "      <td>None</td>\n",
       "      <td>None</td>\n",
       "      <td>None</td>\n",
       "      <td>None</td>\n",
       "      <td>None</td>\n",
       "      <td>None</td>\n",
       "      <td>None</td>\n",
       "      <td>None</td>\n",
       "      <td>None</td>\n",
       "      <td>None</td>\n",
       "    </tr>\n",
       "    <tr>\n",
       "      <th>pan1</th>\n",
       "      <td>None</td>\n",
       "      <td>None</td>\n",
       "      <td>None</td>\n",
       "      <td>None</td>\n",
       "      <td>None</td>\n",
       "      <td>None</td>\n",
       "      <td>None</td>\n",
       "      <td>None</td>\n",
       "      <td>None</td>\n",
       "      <td>None</td>\n",
       "      <td>None</td>\n",
       "      <td>None</td>\n",
       "      <td>None</td>\n",
       "      <td>None</td>\n",
       "      <td>None</td>\n",
       "      <td>None</td>\n",
       "      <td>None</td>\n",
       "      <td>None</td>\n",
       "      <td>None</td>\n",
       "    </tr>\n",
       "    <tr>\n",
       "      <th>tau1</th>\n",
       "      <td>None</td>\n",
       "      <td>None</td>\n",
       "      <td>None</td>\n",
       "      <td>None</td>\n",
       "      <td>None</td>\n",
       "      <td>None</td>\n",
       "      <td>None</td>\n",
       "      <td>None</td>\n",
       "      <td>None</td>\n",
       "      <td>None</td>\n",
       "      <td>None</td>\n",
       "      <td>None</td>\n",
       "      <td>None</td>\n",
       "      <td>None</td>\n",
       "      <td>None</td>\n",
       "      <td>None</td>\n",
       "      <td>None</td>\n",
       "      <td>None</td>\n",
       "      <td>None</td>\n",
       "    </tr>\n",
       "    <tr>\n",
       "      <th>plx</th>\n",
       "      <td>None</td>\n",
       "      <td>None</td>\n",
       "      <td>None</td>\n",
       "      <td>None</td>\n",
       "      <td>None</td>\n",
       "      <td>None</td>\n",
       "      <td>None</td>\n",
       "      <td>None</td>\n",
       "      <td>None</td>\n",
       "      <td>None</td>\n",
       "      <td>None</td>\n",
       "      <td>None</td>\n",
       "      <td>None</td>\n",
       "      <td>None</td>\n",
       "      <td>None</td>\n",
       "      <td>None</td>\n",
       "      <td>None</td>\n",
       "      <td>None</td>\n",
       "      <td>None</td>\n",
       "    </tr>\n",
       "    <tr>\n",
       "      <th>mtot</th>\n",
       "      <td>None</td>\n",
       "      <td>None</td>\n",
       "      <td>None</td>\n",
       "      <td>None</td>\n",
       "      <td>None</td>\n",
       "      <td>None</td>\n",
       "      <td>None</td>\n",
       "      <td>None</td>\n",
       "      <td>None</td>\n",
       "      <td>None</td>\n",
       "      <td>None</td>\n",
       "      <td>None</td>\n",
       "      <td>None</td>\n",
       "      <td>None</td>\n",
       "      <td>None</td>\n",
       "      <td>None</td>\n",
       "      <td>None</td>\n",
       "      <td>None</td>\n",
       "      <td>None</td>\n",
       "    </tr>\n",
       "  </tbody>\n",
       "</table>\n",
       "</div>"
      ],
      "text/plain": [
       "fftkde_plot_param element_str   var  unit xlabel annotation_str   min   max  \\\n",
       "sma1                     None  None  None   None           None  None  None   \n",
       "ecc1                     None  None  None   None           None  None  None   \n",
       "inc1                     None  None  None   None           None  None  None   \n",
       "aop1                     None  None  None   None           None  None  None   \n",
       "pan1                     None  None  None   None           None  None  None   \n",
       "tau1                     None  None  None   None           None  None  None   \n",
       "plx                      None  None  None   None           None  None  None   \n",
       "mtot                     None  None  None   None           None  None  None   \n",
       "\n",
       "fftkde_plot_param  xlim ann_x_frac min_mirror max_mirror circ_param fit_log  \\\n",
       "sma1               None       None       None       None       None    None   \n",
       "ecc1               None       None       None       None       None    None   \n",
       "inc1               None       None       None       None       None    None   \n",
       "aop1               None       None       None       None       None    None   \n",
       "pan1               None       None       None       None       None    None   \n",
       "tau1               None       None       None       None       None    None   \n",
       "plx                None       None       None       None       None    None   \n",
       "mtot               None       None       None       None       None    None   \n",
       "\n",
       "fftkde_plot_param interp_pc n_nom n_errp n_errm ann_nom_add  peak  \n",
       "sma1                   None  None   None   None        None  None  \n",
       "ecc1                   None  None   None   None        None  None  \n",
       "inc1                   None  None   None   None        None  None  \n",
       "aop1                   None  None   None   None        None  None  \n",
       "pan1                   None  None   None   None        None  None  \n",
       "tau1                   None  None   None   None        None  None  \n",
       "plx                    None  None   None   None        None  None  \n",
       "mtot                   None  None   None   None        None  None  "
      ]
     },
     "execution_count": 13,
     "metadata": {},
     "output_type": "execute_result"
    }
   ],
   "source": [
    "param_list = np.array(list(lab.keys())) # all params\n",
    "\n",
    "# dictionaries need filled for making a corner plot.\n",
    "# each orbital parameter needs a value for each of these fftkde_plot parameters\n",
    "dict_names = ['element_str', 'var', 'unit', 'xlabel', 'annotation_str', 'min', 'max', 'xlim', \\\n",
    "             'ann_x_frac', 'min_mirror', 'max_mirror', 'circ_param', 'fit_log', 'interp_pc', 'n_nom', \\\n",
    "             'n_errp', 'n_errm', 'ann_nom_add', 'peak']\n",
    "\n",
    "empty_param_subdict = {param_list[i]:None for i in range(len(param_list))}\n",
    "\n",
    "# keys are dict_names, values are empty_param_subdict for all\n",
    "big_dict = {dict_name:empty_param_subdict for dict_name in dict_names}\n",
    "\n",
    "# fill big_df like big_df.loc[param_lab] = list of fftkde_plot_params\n",
    "big_df = pd.json_normalize([{'fftkde_plot_param': k, **v} for k, v in big_dict.items()])\n",
    "big_df.set_index('fftkde_plot_param', inplace=True)\n",
    "big_df = big_df.transpose() # flip rows and columns\n",
    "\n",
    "big_df\n"
   ]
  },
  {
   "cell_type": "markdown",
   "id": "3d98d8b0",
   "metadata": {},
   "source": [
    "## SMA"
   ]
  },
  {
   "cell_type": "code",
   "execution_count": 14,
   "id": "935c5871-021c-4c4c-9d28-ae04b538d6da",
   "metadata": {},
   "outputs": [],
   "source": [
    "def sigfig_str(i, n):\n",
    "    \"Returns a string for number i with n sigfigs\"\n",
    "    \n",
    "    return '{:g}'.format(float('{:.{p}g}'.format(i, p=n)))"
   ]
  },
  {
   "cell_type": "code",
   "execution_count": 15,
   "id": "24cf701b",
   "metadata": {},
   "outputs": [],
   "source": [
    "# variable and units for the orbital element being plotted\n",
    "sma_var = 'a'\n",
    "sma_unit = 'au'\n",
    "sma_lab = param_list[0]\n",
    "\n",
    "# plot limits, labels, annotations, bins\n",
    "sma_xlim = (75, 500) # range to plot on the x-axis (domain, I guess)\n",
    "sma_xlabel = r'\\textbf{$\\bm{a}$ (au)}'\n",
    "sma_annotation_str = r'$\\mathbf{{\\bm{{a}} = {:g} \\substack{{+{:g} \\\\ \\bm{{-}}{:g}}}}} \\ \\textbf{{au}}$'\n",
    "sma_ann_nom_add=0\n",
    "sma_ann_x_frac = 0.5\n",
    "sma_bins = 250\n",
    "\n",
    "# 68% credible interval bounds in histogram indices (printed below!)\n",
    "sma_i_bounds = (13, 62)\n",
    "\n",
    "# histogram y-jumps\n",
    "plot_sma_jump_hist = False\n",
    "sma_jump_cut_frac = 0.005\n",
    "\n",
    "# Gaussian fitting\n",
    "fit_sma_peak = False\n",
    "plot_sma_fit = False\n",
    "cut_sma_fit_pc_l = 15\n",
    "cut_sma_fit_pc_r = 25\n",
    "cut_sma_fracs = (1 - cut_sma_fit_pc_l/100, 1 + cut_sma_fit_pc_r/100)\n",
    "\n",
    "# new params for KDE\n",
    "sma_min = 0; sma_max = np.inf\n",
    "sma_min_mirror=True ; sma_max_mirror=False ; sma_circ_param=False\n",
    "sma_fit_log=True ; sma_interp_pc=5. # default\n",
    "sma_n_nom=2 ; sma_n_errp=2 ; sma_n_errm=2\n"
   ]
  },
  {
   "cell_type": "markdown",
   "id": "72a8addd-b556-4af2-ad88-aac435914ff2",
   "metadata": {},
   "source": [
    "KDEpy FFT Kernel Density Estimation with Improved Sheather-Jones BW (Gaussian kernel):"
   ]
  },
  {
   "cell_type": "code",
   "execution_count": 16,
   "id": "14c28777-69fc-4479-a025-ea91d7c42140",
   "metadata": {},
   "outputs": [],
   "source": [
    "sma_params = ['sma', sma_var, sma_unit, sma_xlabel, sma_annotation_str, sma_min, sma_max, sma_xlim, \\\n",
    "             sma_ann_x_frac, sma_min_mirror, sma_max_mirror, sma_circ_param, sma_fit_log, sma_interp_pc, \\\n",
    "              sma_n_nom, sma_n_errp, sma_n_errm, sma_ann_nom_add, None]\n",
    "\n",
    "# update row in dataframe for sma with the above parameters\n",
    "big_df.loc[sma_lab] = sma_params\n"
   ]
  },
  {
   "cell_type": "markdown",
   "id": "2cd6efdc-632b-48b0-ba1e-5973b7d211cd",
   "metadata": {},
   "source": [
    "Make the KDE plot!"
   ]
  },
  {
   "cell_type": "code",
   "execution_count": 18,
   "id": "ff16ccef-a52e-48bc-ace2-0d041e0f99fe",
   "metadata": {
    "scrolled": true
   },
   "outputs": [
    {
     "name": "stdout",
     "output_type": "stream",
     "text": [
      "Creating Plot for sma...\n",
      "fitting log\n",
      "Total Probability in bounds of: 68.0%\n",
      "a = (142.8634 +125.0619 or -30.7019) au\n",
      "\n",
      "saving figure...\n",
      "\n"
     ]
    },
    {
     "data": {
      "text/plain": [
       "0"
      ]
     },
     "execution_count": 18,
     "metadata": {},
     "output_type": "execute_result"
    }
   ],
   "source": [
    "sma_peak, sma_errp, sma_errm = fftkde_plot(\n",
    "    sma,\n",
    "    sma_params,\n",
    "    obj='hii1348b',\n",
    "    sampler=sampler,\n",
    "    color=my_colors[5], \n",
    "    dpi=dpi,\n",
    "    bw_rule='silvermans',\n",
    "    jpeg=True,\n",
    "    save=True,\n",
    "    size_fac=size_fac/1.5,\n",
    "    fftkde_res=fftkde_res,\n",
    "    lw=lw*0.75,\n",
    "    plot_hist=True,\n",
    "    hist_bins=400,\n",
    "    annotate=True,\n",
    "    fill_alpha=0.52,\n",
    "    hist_color=my_lighter_colors[8],\n",
    "    base_margin=0.52,\n",
    "    show_ylabel=True,\n",
    "    no_ticks=True,\n",
    "    no_tick_labels=True\n",
    ")\n",
    "\n",
    "big_df.loc[sma_lab, 'peak'] = sma_peak\n",
    "plt.close()\n",
    "gc.collect()\n"
   ]
  },
  {
   "cell_type": "markdown",
   "id": "89506ebb",
   "metadata": {},
   "source": [
    "## ECC:"
   ]
  },
  {
   "cell_type": "markdown",
   "id": "6b183aac",
   "metadata": {},
   "source": [
    "User input"
   ]
  },
  {
   "cell_type": "code",
   "execution_count": 19,
   "id": "6f80b776",
   "metadata": {},
   "outputs": [],
   "source": [
    "# variable and units for the orbital element being plotted\n",
    "ecc_var = 'e'\n",
    "ecc_unit = ''\n",
    "ecc_lab = param_list[1]\n",
    "\n",
    "# plot labels, annotations, limits, bins\n",
    "ecc_xlabel = r'$\\bm{e}$'\n",
    "ecc_annotation_str =r'$\\mathbf{{ \\bm{{e}} = {:g} \\substack{{+{:g} \\\\ \\bm{{-}}{:g}}}}}$'\n",
    "ecc_ann_nom_add=0\n",
    "ecc_ann_x_frac = 0.05\n",
    "ecc_xlim = (0, 1) # range to plot on the x-axis (domain, I guess)\n",
    "ecc_bins = 250\n",
    "\n",
    "# 68% credible interval bounds in histogram indices (printed below!)\n",
    "ecc_i_bounds = (122, 225)\n",
    "\n",
    "# histogram y-jumps\n",
    "plot_ecc_jump_hist = False\n",
    "ecc_jump_cut_frac = 0.005\n",
    "\n",
    "# Gaussian fitting\n",
    "fit_ecc_peak = False\n",
    "plot_ecc_fit = False\n",
    "cut_ecc_fit_pc_l = 15\n",
    "cut_ecc_fit_pc_r = 12\n",
    "cut_ecc_fracs = (1 - cut_ecc_fit_pc_l/100, 1 + cut_ecc_fit_pc_r/100)\n",
    "\n",
    "# new params for KDE\n",
    "ecc_min = 0; ecc_max = 1\n",
    "ecc_min_mirror=True ; ecc_max_mirror=True ; ecc_circ_param=False\n",
    "ecc_fit_log=False ; ecc_n_errp=2 ; ecc_n_nom=2 ; ecc_n_errm=2\n",
    "ecc_interp_pc=5.\n"
   ]
  },
  {
   "cell_type": "markdown",
   "id": "2cbb0348",
   "metadata": {},
   "source": [
    "plotting"
   ]
  },
  {
   "cell_type": "code",
   "execution_count": 20,
   "id": "761057e0",
   "metadata": {},
   "outputs": [],
   "source": [
    "ecc_params = ['ecc', ecc_var, ecc_unit, ecc_xlabel, ecc_annotation_str, ecc_min, ecc_max, ecc_xlim, \\\n",
    "             ecc_ann_x_frac, ecc_min_mirror, ecc_max_mirror, ecc_circ_param, ecc_fit_log, ecc_interp_pc, \\\n",
    "              ecc_n_nom, ecc_n_errp, ecc_n_errm, ecc_ann_nom_add, None]\n",
    "\n",
    "# update row in dataframe for ecc with the above parameters\n",
    "big_df.loc[ecc_lab] = ecc_params\n"
   ]
  },
  {
   "cell_type": "markdown",
   "id": "b984a159-23b4-4c81-ab69-bbdb854900b9",
   "metadata": {},
   "source": [
    "Make the KDE plot!"
   ]
  },
  {
   "cell_type": "code",
   "execution_count": 21,
   "id": "919f0827-8270-4f6e-b6a8-cba52450fee1",
   "metadata": {},
   "outputs": [
    {
     "name": "stdout",
     "output_type": "stream",
     "text": [
      "Creating Plot for ecc...\n",
      "saving figure...\n",
      "\n"
     ]
    },
    {
     "data": {
      "text/plain": [
       "0"
      ]
     },
     "execution_count": 21,
     "metadata": {},
     "output_type": "execute_result"
    }
   ],
   "source": [
    "ecc_peak, ecc_errp, ecc_errm = fftkde_plot(\n",
    "    ecc,\n",
    "    ecc_params,\n",
    "    obj='hii1348b',\n",
    "    sampler=sampler,\n",
    "    color=my_colors[10], \n",
    "    dpi=dpi,\n",
    "    bw_rule='silvermans',\n",
    "    jpeg=True,\n",
    "    save=True,\n",
    "    size_fac=size_fac/1.5,\n",
    "    fftkde_res=fftkde_res,\n",
    "    lw=lw*0.75,\n",
    "    plot_hist=True,\n",
    "    hist_bins=400,\n",
    "    annotate=False,\n",
    "    fill_alpha=0.5,\n",
    "    hist_color=my_lighter_colors[17],\n",
    "    base_margin=0.52,\n",
    "    show_ylabel=True,\n",
    "    no_ticks=False,\n",
    "    no_tick_labels=False,\n",
    "    #show_ylabel=False,### CHANGE FOR 513 PRESENTATION\n",
    "    #no_ticks=True, ### CHANGE FOR 513 PRESENTATION\n",
    "    #no_tick_labels=True, ### CHANGE FOR 513 PRESENTATION\n",
    "    calc_kde=False\n",
    ")\n",
    "\n",
    "# big_df.loc[ecc_lab, 'peak'] = ecc_peak ### CHANGE FOR 513 PRESENTATION\n",
    "plt.close()\n",
    "gc.collect()\n"
   ]
  },
  {
   "cell_type": "markdown",
   "id": "437db019",
   "metadata": {},
   "source": [
    "## Inclination:"
   ]
  },
  {
   "cell_type": "markdown",
   "id": "b1078e2b",
   "metadata": {},
   "source": [
    "User input"
   ]
  },
  {
   "cell_type": "code",
   "execution_count": 22,
   "id": "e7501d83",
   "metadata": {},
   "outputs": [],
   "source": [
    "# variable and units for the orbital element being plotted\n",
    "inc_var = 'i'\n",
    "inc_unit = 'deg'\n",
    "inc_lab = param_list[2]\n",
    "\n",
    "# plot labels, annotations, limits, bins\n",
    "inc_xlabel = r'\\textbf{$\\bm{i}$ (\\textdegree)}'\n",
    "inc_annotation_str =r'$\\mathbf{{\\bm{{i}} = {:g}^\\circ \\substack{{+{:g}^\\circ \\\\ \\bm{{-}}{:g}^\\circ}}}}$'\n",
    "inc_ann_nom_add=0\n",
    "inc_ann_x_frac = 0.6\n",
    "inc_xlim = (90, 180) # range to plot on the x-axis (domain, I guess)\n",
    "inc_bins = 250\n",
    "\n",
    "# 68% credible interval bounds in histogram indices (printed below!)\n",
    "inc_i_bounds = (44, 138)\n",
    "\n",
    "# histogram y-jumps\n",
    "plot_inc_jump_hist = False\n",
    "inc_jump_cut_frac = 0.005\n",
    "\n",
    "# Gaussian fitting\n",
    "fit_inc_peak = False\n",
    "plot_inc_fit = False\n",
    "cut_inc_fit_pc_l = 7\n",
    "cut_inc_fit_pc_r = 14\n",
    "cut_inc_fracs = (1 - cut_inc_fit_pc_l/100, 1 + cut_inc_fit_pc_r/100)\n",
    "\n",
    "inc_min = 90 ; inc_max = 180 # deg\n",
    "inc_min_mirror=True ; inc_max_mirror=True ; inc_circ_param=False\n",
    "inc_fit_log=False ; inc_n_errp=2 ; inc_n_nom=3 ; inc_n_errm=1\n",
    "inc_interp_pc=5.\n"
   ]
  },
  {
   "cell_type": "markdown",
   "id": "0b6affec",
   "metadata": {},
   "source": [
    "plotting"
   ]
  },
  {
   "cell_type": "code",
   "execution_count": 23,
   "id": "39a15952",
   "metadata": {},
   "outputs": [],
   "source": [
    "inc_params = ['inc', inc_var, inc_unit, inc_xlabel, inc_annotation_str, inc_min, inc_max, inc_xlim, \\\n",
    "             inc_ann_x_frac, inc_min_mirror, inc_max_mirror, inc_circ_param, inc_fit_log, inc_interp_pc, \\\n",
    "              inc_n_nom, inc_n_errp, inc_n_errm, inc_ann_nom_add, None]\n",
    "\n",
    "# update row in dataframe for inc with the above parameters\n",
    "big_df.loc[inc_lab] = inc_params\n"
   ]
  },
  {
   "cell_type": "markdown",
   "id": "ad0d3706-ac52-4634-9383-6ecb390c2280",
   "metadata": {},
   "source": [
    "Make the KDE plot!"
   ]
  },
  {
   "cell_type": "code",
   "execution_count": 24,
   "id": "36f1d1a5-d706-4042-ab44-c84b284a675f",
   "metadata": {},
   "outputs": [
    {
     "name": "stdout",
     "output_type": "stream",
     "text": [
      "Creating Plot for inc...\n",
      "Total Probability in bounds of: 68.0%\n",
      "i = (114.9346 +25.0358 or -9.0230) deg\n",
      "\n",
      "saving figure...\n",
      "\n"
     ]
    },
    {
     "data": {
      "text/plain": [
       "0"
      ]
     },
     "execution_count": 24,
     "metadata": {},
     "output_type": "execute_result"
    }
   ],
   "source": [
    "fig, ax = plt.subplots(dpi=dpi, figsize=(10, 10))\n",
    "inc_peak, inc_errp, inc_errm = fftkde_plot(\n",
    "    inc,\n",
    "    inc_params,\n",
    "    obj='hii1348b',\n",
    "    sampler=sampler,\n",
    "    color=my_colors[14], \n",
    "    dpi=dpi,\n",
    "    bw_rule='silvermans',\n",
    "    jpeg=True,\n",
    "    save=True,\n",
    "    size_fac=size_fac/1.5,\n",
    "    fftkde_res=fftkde_res,\n",
    "    lw=lw*0.75,\n",
    "    plot_hist=True,\n",
    "    hist_bins=400,\n",
    "    annotate=True,\n",
    "    fill_alpha=0.5,\n",
    "    hist_color=my_lighter_colors[17],\n",
    "    base_margin=0.52,\n",
    "    show_ylabel=False,\n",
    "    no_ticks=True,\n",
    "    no_tick_labels=True\n",
    ")\n",
    "\n",
    "big_df.loc[inc_lab, 'peak'] = inc_peak\n",
    "plt.close()\n",
    "gc.collect()\n"
   ]
  },
  {
   "cell_type": "markdown",
   "id": "bda40e42",
   "metadata": {},
   "source": [
    "## Position Angle of Nodes ($\\Omega$)"
   ]
  },
  {
   "cell_type": "code",
   "execution_count": 25,
   "id": "a9f72ead",
   "metadata": {},
   "outputs": [],
   "source": [
    "# variable and units for the orbital element being plotted\n",
    "pan_var = 'pan'\n",
    "pan_unit = 'deg'\n",
    "pan_lab = param_list[4]\n",
    "\n",
    "# plot labels, annotations, limits, bins\n",
    "pan_xlabel = r'\\textbf{$\\boldsymbol{\\Omega}$ (\\textdegree)}'\n",
    "pan_annotation_str =r'$\\mathbf{{\\boldsymbol{{\\Omega = {:g}^\\circ \\substack{{+{:g}^\\circ \\\\ \\bm{{-}}{:g}^\\circ}}}}}}$'\n",
    "pan_ann_x_frac = 0.64\n",
    "pan_xlim = (0, 180) # range to plot on the x-axis (domain, I guess)\n",
    "pan_bins = 280\n",
    "\n",
    "# 68% credible interval bounds in histogram indices (printed below!)\n",
    "pan_i_bounds = (83, 148)\n",
    "\n",
    "# histogram y-jumps\n",
    "plot_pan_jump_hist = False\n",
    "pan_jump_cut_frac = 0.02\n",
    "\n",
    "# Gaussian fitting\n",
    "fit_pan_peak = False\n",
    "\n",
    "if fit_pan_peak:\n",
    "    plot_pan_fit = False\n",
    "else:\n",
    "    plot_pan_fit = False\n",
    "    \n",
    "cut_pan_fit_pc_l = 21\n",
    "cut_pan_fit_pc_r = 25\n",
    "cut_pan_fracs = (1 - cut_pan_fit_pc_l/100, 1 + cut_pan_fit_pc_r/100)"
   ]
  },
  {
   "cell_type": "code",
   "execution_count": 26,
   "id": "71326542",
   "metadata": {},
   "outputs": [
    {
     "name": "stdout",
     "output_type": "stream",
     "text": [
      "pan_bins: 280\n"
     ]
    },
    {
     "data": {
      "text/plain": [
       "4771"
      ]
     },
     "execution_count": 26,
     "metadata": {},
     "output_type": "execute_result"
    }
   ],
   "source": [
    "fig, ax = plt.subplots(dpi=dpi)\n",
    "\n",
    "# make the hisogram\n",
    "pany, panx, _ = hist(pan, density=True, histtype='stepfilled',\n",
    "                       color=my_colors[10], bins=pan_bins, range=pan_xlim, alpha=1)\n",
    "\n",
    "pan_bins = pany.size\n",
    "\n",
    "# get the middle values of bins (x is the edges, 1 more index here than for y)\n",
    "panx_mid = moving_average(panx, 2)\n",
    "\n",
    "panpeak = pany.max() # peak in the element histogram\n",
    "panmin = pany.min()\n",
    "\n",
    "# find the peak in sma probability\n",
    "panpeak_i = np.where(pany == panpeak)[0][0]\n",
    "panpeak_x_mid = panx_mid[panpeak_i]\n",
    "\n",
    "# find the peak in sma probability\n",
    "panmin_i = np.where(pany == panmin)[0][0]\n",
    "panmin_x_mid = panx_mid[panmin_i]\n",
    "\n",
    "print(f'pan_bins: {pan_bins}')\n",
    "\n",
    "\n",
    "plt.close()\n",
    "gc.collect()\n"
   ]
  },
  {
   "cell_type": "code",
   "execution_count": 27,
   "id": "09aab865",
   "metadata": {},
   "outputs": [
    {
     "name": "stdout",
     "output_type": "stream",
     "text": [
      "\n",
      "Wrap shift: -59 deg\n",
      "element: [ 87.10348946  85.22788918  74.26690615 ...  88.2802805   75.74283102\n",
      " 115.61905452]\n",
      "bins: 280\n",
      "None\n"
     ]
    },
    {
     "data": {
      "text/plain": [
       "72"
      ]
     },
     "execution_count": 27,
     "metadata": {},
     "output_type": "execute_result"
    }
   ],
   "source": [
    "# A, mu, sigma, b, a for Gaussian + ax + b\n",
    "pan_param_0 = [-9.40182357e-02,  1.26932128e+02,  6.21835314e+02, -7.94535678e-02,\n",
    "        1.43308174e-03]\n",
    "# Move everything past the minimum to a negative angle\n",
    "modulo = 180\n",
    "pan_wrapped2 = np.copy(pan)\n",
    "\n",
    "# shift left or right depending on peak relative to minimum\n",
    "if panmin_x_mid > panpeak_x_mid:\n",
    "    pan_wrap_shift = modulo - panmin_x_mid\n",
    "else:\n",
    "    pan_wrap_shift = 0 - panmin_x_mid\n",
    "\n",
    "pan_wrap_shift = int(np.round(pan_wrap_shift)) # nearest integer degree\n",
    "pan_wrapped2 += pan_wrap_shift\n",
    "\n",
    "print(f'\\nWrap shift: {pan_wrap_shift} deg')\n",
    "pan_ann_nom_add = -pan_wrap_shift\n",
    "\n",
    "# anything that got shifted beyond modulo or left of 0 should be wrapped accordingly.\n",
    "pan_wrapped2[pan_wrapped2 > modulo] -= modulo\n",
    "\n",
    "# need to adjust omega for this shift as well!!!!\n",
    "omega[pan_wrapped2 < 0] += 180\n",
    "\n",
    "pan_wrapped2[pan_wrapped2 < 0] += modulo\n",
    "adjusted_units_orbits[4] = pan_wrapped2# update arr of orbital params\n",
    "\n",
    "# new xlabel for adjusted parameter\n",
    "if pan_wrap_shift > 0:\n",
    "    pan_wrapped2_xlabel = r'\\textbf{{$\\boldsymbol{{\\Omega + {:.0f}^\\circ \\pmod{{180^\\circ}}}}$}}'.format(pan_wrap_shift)\n",
    "else:\n",
    "    pan_wrapped2_xlabel = r'\\textbf{{$\\boldsymbol{{\\Omega - {:.0f}^\\circ \\pmod{{180^\\circ}}}}$}}'.format(np.abs(pan_wrap_shift))\n",
    "\n",
    "try:\n",
    "    pan_param\n",
    "except NameError:\n",
    "    \n",
    "    pan_param = element_hist(pan_wrapped2, 'pan', pan_var, pan_unit, pan_wrapped2_xlabel,\n",
    "                               pan_annotation_str, pan_i_bounds, bins=pan_bins, xlim=pan_xlim,\n",
    "                               plot_jump_hist=plot_pan_jump_hist,\n",
    "                             fit_peak=fit_pan_peak, plot_fit=plot_pan_fit, fit_cut_fracs=cut_pan_fracs,\n",
    "                             ann_x_frac=pan_ann_x_frac, param=pan_param_0, color=my_colors[17],\n",
    "                             jump_cut_frac=pan_jump_cut_frac,\n",
    "                            obj='hii1348b', sampler='MCMC_30M_final', alpha=1,\n",
    "                            dpi=dpi, ann_nom_add=pan_ann_nom_add)\n",
    "\n",
    "else:\n",
    "    pan_param = element_hist(pan_wrapped2, 'pan', pan_var, pan_unit, pan_wrapped2_xlabel,\n",
    "                           pan_annotation_str, pan_i_bounds, bins=pan_bins, xlim=pan_xlim,\n",
    "                           plot_jump_hist=plot_pan_jump_hist,\n",
    "                         fit_peak=fit_pan_peak, plot_fit=plot_pan_fit, fit_cut_fracs=cut_pan_fracs,\n",
    "                         ann_x_frac=pan_ann_x_frac, param=pan_param, color=my_colors[17],\n",
    "                         jump_cut_frac=pan_jump_cut_frac,\n",
    "                        obj='hii1348b', sampler='MCMC_30M_final', alpha=1,\n",
    "                        dpi=dpi, ann_nom_add=pan_ann_nom_add)\n",
    "\n",
    "\n",
    "print(repr(pan_param))\n",
    "plt.close()\n",
    "gc.collect()"
   ]
  },
  {
   "cell_type": "code",
   "execution_count": 28,
   "id": "68c1600a-bafc-47bf-93dd-5ab5e156c6b8",
   "metadata": {},
   "outputs": [],
   "source": [
    "# deg, just for FFTKDE boundary condition (circular, in this case)\n",
    "pan_min=0\n",
    "pan_max=180\n",
    "pan_min_mirror=False ; pan_max_mirror=False ; pan_circ_param=True\n",
    "pan_fit_log=False ; pan_n_errp=2 ; pan_n_nom=3 ; pan_n_errm=2\n",
    "pan_interp_pc=5.\n",
    "\n",
    "pan_params = ['pan', pan_var, pan_unit, pan_wrapped2_xlabel, pan_annotation_str, pan_min, pan_max, pan_xlim, \\\n",
    "             pan_ann_x_frac, pan_min_mirror, pan_max_mirror, pan_circ_param, pan_fit_log, pan_interp_pc, \\\n",
    "              pan_n_nom, pan_n_errp, pan_n_errm, pan_ann_nom_add, None]\n",
    "\n",
    "# update row in dataframe for pan with the above parameters\n",
    "big_df.loc[pan_lab] = pan_params\n"
   ]
  },
  {
   "cell_type": "markdown",
   "id": "7bca4b13-8567-4c04-ae3b-81c025ed489f",
   "metadata": {},
   "source": [
    "Make the KDE plot!"
   ]
  },
  {
   "cell_type": "code",
   "execution_count": 29,
   "id": "8fc37f61-1a34-46f1-93c1-e0486ebc3fc3",
   "metadata": {},
   "outputs": [
    {
     "name": "stdout",
     "output_type": "stream",
     "text": [
      "Creating Plot for pan...\n",
      "Total Probability in bounds of: 68.0%\n",
      "pan = (81.8274 +23.8279 or -23.4628) deg\n",
      "\n",
      "saving figure...\n",
      "\n"
     ]
    },
    {
     "data": {
      "text/plain": [
       "0"
      ]
     },
     "execution_count": 29,
     "metadata": {},
     "output_type": "execute_result"
    }
   ],
   "source": [
    "pan_peak, pan_errp, pan_errm = fftkde_plot(\n",
    "    pan_wrapped2,\n",
    "    pan_params,\n",
    "    obj='hii1348b',\n",
    "    sampler=sampler,\n",
    "    color=my_colors[10], \n",
    "    dpi=dpi,\n",
    "    bw_rule='silvermans',\n",
    "    jpeg=True,\n",
    "    size_fac=size_fac,\n",
    "    fftkde_res=fftkde_res,\n",
    "    lw=lw\n",
    ")\n",
    "\n",
    "big_df.loc[pan_lab, 'peak'] = pan_peak\n",
    "plt.close()\n",
    "gc.collect()\n"
   ]
  },
  {
   "cell_type": "markdown",
   "id": "b4ad093f",
   "metadata": {},
   "source": [
    "## Argument of Periastron $\\mathbf{(\\boldsymbol{\\omega})}$"
   ]
  },
  {
   "cell_type": "code",
   "execution_count": 30,
   "id": "c87b1a76",
   "metadata": {},
   "outputs": [],
   "source": [
    "# variable and units for the orbital element being plotted\n",
    "omega_var = 'omega'\n",
    "omega_unit = 'deg'\n",
    "omega_lab = param_list[3]\n",
    "\n",
    "# plot labels, annotations, limits, bins\n",
    "omega_xlabel = r'\\textbf{$\\boldsymbol{\\omega}$ (\\textdegree)}'\n",
    "omega_annotation_str =r'$\\mathbf{{\\boldsymbol{{\\omega = {:g}^\\circ \\substack{{+{:g}^\\circ \\\\ \\bm{{-}}{:g}^\\circ}}}}}}$'\n",
    "omega_ann_x_frac = 0.65\n",
    "omega_xlim = (0, 360) # range to plot on the x-axis (domain, I guess)\n",
    "omega_bins = 280\n",
    "\n",
    "# 68% credible interval bounds in histogram indices (printed below!)\n",
    "omega_i_bounds = (83, 167)\n",
    "\n",
    "# histogram y-jumps\n",
    "plot_omega_jump_hist = False\n",
    "omega_jump_cut_frac = 0.005\n",
    "\n",
    "# Gaussian fitting\n",
    "fit_omega_peak = False\n",
    "\n",
    "if fit_omega_peak:\n",
    "    plot_omega_fit = False\n",
    "else:\n",
    "    plot_omega_fit = False\n",
    "    \n",
    "cut_omega_fit_pc_l = 34\n",
    "cut_omega_fit_pc_r = 34\n",
    "cut_omega_fracs = (1 - cut_omega_fit_pc_l/100, 1 + cut_omega_fit_pc_r/100)\n"
   ]
  },
  {
   "cell_type": "code",
   "execution_count": 31,
   "id": "9df30139",
   "metadata": {},
   "outputs": [
    {
     "data": {
      "image/png": "[encoded data removed]",
      "text/plain": [
       "<Figure size 960x720 with 1 Axes>"
      ]
     },
     "metadata": {},
     "output_type": "display_data"
    }
   ],
   "source": [
    "fig, ax = plt.subplots(dpi=dpi)\n",
    "\n",
    "# make the hisogram\n",
    "omegay, omegax, _ = hist(omega, density=True, histtype='stepfilled',\n",
    "                       color=my_colors[10], bins=omega_bins, range=omega_xlim, alpha=1)\n",
    "\n",
    "omega_bins = omegay.size\n",
    "# get the middle values of bins (x is the edges, 1 more index here than for y)\n",
    "omegax_mid = moving_average(omegax, 2)\n",
    "\n",
    "omegapeak = omegay.max() # peak in the element histogram\n",
    "omegamin = omegay.min()\n",
    "\n",
    "# find the peak in sma probability\n",
    "omegapeak_i = np.where(omegay == omegapeak)[0][0]\n",
    "omegapeak_x_mid = omegax_mid[omegapeak_i]\n",
    "\n",
    "# find the peak in sma probability\n",
    "omegamin_i = np.where(omegay == omegamin)[0][0]\n",
    "omegamin_x_mid = omegax_mid[omegamin_i]\n",
    "\n",
    "# plt.close()\n",
    "# gc.collect()\n",
    "\n",
    "plt.show()\n"
   ]
  },
  {
   "cell_type": "code",
   "execution_count": 32,
   "id": "0e66720e",
   "metadata": {},
   "outputs": [
    {
     "name": "stdout",
     "output_type": "stream",
     "text": [
      "\n",
      "Wrap shift: 141.0 deg\n",
      "element: [271.33898313 158.73211509 119.62173311 ... 157.20229688 211.59476555\n",
      " 191.40381287]\n",
      "bins: 280\n",
      "None\n"
     ]
    },
    {
     "data": {
      "text/plain": [
       "4304"
      ]
     },
     "execution_count": 32,
     "metadata": {},
     "output_type": "execute_result"
    }
   ],
   "source": [
    "# A, mu, sigma, b, a for Gaussian + ax + b\n",
    "omega_param_0 = [-2.45204396e-02,  5.31679640e+01,  2.70393346e+03,  2.61792176e-02,\n",
    "       -9.95688208e-05]\n",
    "\n",
    "# Move everything past the minimum to a negative angle\n",
    "omega_wrapped2 = np.copy(omega)\n",
    "omega_wrap_shift = 360 - omegamin_x_mid\n",
    "omega_wrap_shift = np.round(omega_wrap_shift) # nearest integer degree\n",
    "omega_wrapped2 += omega_wrap_shift\n",
    "\n",
    "print(f'\\nWrap shift: {omega_wrap_shift} deg')\n",
    "omega_ann_nom_add = -omega_wrap_shift\n",
    "\n",
    "omega_wrapped2[omega_wrapped2 > 360] -= 360\n",
    "adjusted_units_orbits[3] = omega_wrapped2# update arr of orbital params\n",
    "\n",
    "# new xlabel for adjusted parameter\n",
    "if omega_wrap_shift > 0:\n",
    "    omega_wrapped2_xlabel = r'\\textbf{{$\\boldsymbol{{\\omega + {:.0f}^\\circ \\pmod{{360^\\circ}}}}$}}'.format(omega_wrap_shift)\n",
    "else:\n",
    "    omega_wrapped2_xlabel = r'\\textbf{{$\\boldsymbol{{\\omega - {:.0f}^\\circ \\pmod{{360^\\circ}}}}$}}'.format(np.abs(omega_wrap_shift))\n",
    "\n",
    "try:\n",
    "    omega_param\n",
    "except NameError:\n",
    "    \n",
    "    omega_param = element_hist(omega_wrapped2, 'omega', omega_var, omega_unit, omega_wrapped2_xlabel,\n",
    "                               omega_annotation_str, omega_i_bounds, bins=omega_bins, xlim=(0,360),\n",
    "                               plot_jump_hist=plot_omega_jump_hist,\n",
    "                             fit_peak=fit_omega_peak, plot_fit=plot_omega_fit, fit_cut_fracs=cut_omega_fracs,\n",
    "                             ann_x_frac=omega_ann_x_frac, param=omega_param_0, color=my_colors[8],\n",
    "                             jump_cut_frac=omega_jump_cut_frac,\n",
    "                            obj='hii1348b', sampler='MCMC_30M_final', alpha=0.9,\n",
    "                            dpi=dpi, ann_nom_add=omega_ann_nom_add)\n",
    "\n",
    "else:\n",
    "    omega_param = element_hist(omega_wrapped2, 'omega', omega_var, omega_unit, omega_wrapped2_xlabel,\n",
    "                           omega_annotation_str, omega_i_bounds, bins=omega_bins, xlim=(0,360),\n",
    "                           plot_jump_hist=plot_omega_jump_hist,\n",
    "                         fit_peak=fit_omega_peak, plot_fit=plot_omega_fit, fit_cut_fracs=cut_omega_fracs,\n",
    "                         ann_x_frac=omega_ann_x_frac, param=omega_param, color=my_colors[8],\n",
    "                         jump_cut_frac=omega_jump_cut_frac,\n",
    "                        obj='hii1348b', sampler='MCMC_30M_final', alpha=0.9,\n",
    "                        dpi=dpi, ann_nom_add=omega_ann_nom_add)\n",
    "\n",
    "\n",
    "print(repr(omega_param))\n",
    "\n",
    "plt.close()\n",
    "gc.collect()"
   ]
  },
  {
   "cell_type": "code",
   "execution_count": 33,
   "id": "d65518c1-ea38-4686-941a-074d25e69a01",
   "metadata": {},
   "outputs": [],
   "source": [
    "# deg, just for FFTKDE boundary condition (circular, in this case)\n",
    "omega_min=0\n",
    "omega_max=360\n",
    "omega_min_mirror=False ; omega_max_mirror=False ; omega_circ_param=True\n",
    "omega_fit_log=False ; omega_n_errp=2 ; omega_n_nom=2 ; omega_n_errm=2\n",
    "omega_interp_pc=5.\n",
    "\n",
    "omega_params = ['omega', omega_var, omega_unit, omega_wrapped2_xlabel, omega_annotation_str, omega_min, omega_max, omega_xlim, \\\n",
    "             omega_ann_x_frac, omega_min_mirror, omega_max_mirror, omega_circ_param, omega_fit_log, omega_interp_pc, \\\n",
    "              omega_n_nom, omega_n_errp, omega_n_errm, omega_ann_nom_add, None]\n",
    "\n",
    "# update row in dataframe for omega with the above parameters\n",
    "big_df.loc[omega_lab] = omega_params\n"
   ]
  },
  {
   "cell_type": "code",
   "execution_count": 34,
   "id": "850fde89-80fd-4958-9a28-d9177cf1e59a",
   "metadata": {},
   "outputs": [
    {
     "name": "stdout",
     "output_type": "stream",
     "text": [
      "Creating Plot for omega...\n",
      "Total Probability in bounds of: 68.0%\n",
      "omega = (153.5661 +70.6603 or -35.3061) deg\n",
      "\n",
      "saving figure...\n",
      "\n"
     ]
    },
    {
     "data": {
      "text/plain": [
       "0"
      ]
     },
     "execution_count": 34,
     "metadata": {},
     "output_type": "execute_result"
    }
   ],
   "source": [
    "omega_peak, omega_errp, omega_errm = fftkde_plot(\n",
    "    omega_wrapped2,\n",
    "    omega_params,\n",
    "    obj='hii1348b',\n",
    "    sampler=sampler,\n",
    "    color=my_colors[10], \n",
    "    dpi=dpi,\n",
    "    bw_rule='silvermans',\n",
    "    jpeg=True,\n",
    "    size_fac=size_fac,\n",
    "    fftkde_res=fftkde_res,\n",
    "    lw=lw\n",
    ")\n",
    "\n",
    "big_df.loc[omega_lab, 'peak'] = omega_peak\n",
    "plt.close()\n",
    "gc.collect()\n"
   ]
  },
  {
   "cell_type": "markdown",
   "id": "a2ffcf8f",
   "metadata": {},
   "source": [
    "## Epoch of periastron $\\mathbf{(\\tau)}$"
   ]
  },
  {
   "cell_type": "code",
   "execution_count": 35,
   "id": "2ec9a903",
   "metadata": {},
   "outputs": [],
   "source": [
    "# variable and units for the orbital element being plotted\n",
    "tau_var = 'tau'\n",
    "tau_unit = ''\n",
    "tau_lab = param_list[5]\n",
    "\n",
    "# plot labels, annotations, limits, bins\n",
    "tau_xlabel = r'$\\boldsymbol{\\tau}$'\n",
    "tau_annotation_str =r'$\\mathbf{{\\boldsymbol{{\\tau}} = {:g} \\substack{{+{:g} \\\\ \\bm{{-}}{:g}}}}}$'\n",
    "tau_ann_x_frac = 0.07\n",
    "tau_xlim = (0.3, 0.7) # range to plot on the x-axis (domain, I guess)\n",
    "tau_bins = 280\n",
    "\n",
    "# 68% credible interval bounds in histogram indices (printed below!)\n",
    "tau_i_bounds = (106, 152)\n",
    "\n",
    "# histogram y-jumps\n",
    "plot_tau_jump_hist = False\n",
    "tau_jump_cut_frac = 0.04\n",
    "\n",
    "# Gaussian fitting\n",
    "fit_tau_peak = False\n",
    "\n",
    "if fit_tau_peak:\n",
    "    plot_tau_fit = False\n",
    "else:\n",
    "    plot_tau_fit = False\n",
    "    \n",
    "cut_tau_fit_pc_l = 33\n",
    "cut_tau_fit_pc_r = 10\n",
    "cut_tau_fracs = (1 - cut_tau_fit_pc_l/100, 1 - cut_tau_fit_pc_r/100)\n"
   ]
  },
  {
   "cell_type": "code",
   "execution_count": 36,
   "id": "d5d48d00",
   "metadata": {},
   "outputs": [
    {
     "data": {
      "image/png": "[encoded data removed]",
      "text/plain": [
       "<Figure size 960x720 with 1 Axes>"
      ]
     },
     "metadata": {},
     "output_type": "display_data"
    },
    {
     "data": {
      "text/plain": [
       "5117"
      ]
     },
     "execution_count": 36,
     "metadata": {},
     "output_type": "execute_result"
    }
   ],
   "source": [
    "fig, ax = plt.subplots(dpi=dpi)\n",
    "\n",
    "# make the hisogram\n",
    "tauy, taux, _ = hist(tau, density=True, histtype='stepfilled',\n",
    "                       color=my_colors[10], bins=tau_bins, range=tau_xlim, alpha=1)\n",
    "\n",
    "# get the middle values of bins (x is the edges, 1 more index here than for y)\n",
    "taux_mid = moving_average(taux, 2)\n",
    "\n",
    "taupeak = tauy.max() # peak in the element histogram\n",
    "taumin = tauy.min()\n",
    "\n",
    "# find the peak in sma probability\n",
    "taupeak_i = np.where(tauy == taupeak)[0][0]\n",
    "taupeak_x_mid = taux_mid[taupeak_i]\n",
    "\n",
    "# find the peak in sma probability\n",
    "taumin_i = np.where(tauy == taumin)[0][0]\n",
    "taumin_x_mid = taux_mid[taumin_i]\n",
    "plt.show()\n",
    "gc.collect()\n"
   ]
  },
  {
   "cell_type": "code",
   "execution_count": 37,
   "id": "92546e26",
   "metadata": {},
   "outputs": [
    {
     "name": "stdout",
     "output_type": "stream",
     "text": [
      "\n",
      "Wrap shift: -0.3335714285714286\n",
      "element: [0.67070752 0.51462599 0.51824733 ... 0.48583362 0.60256426 0.4925249 ]\n",
      "bins: 280\n",
      "None\n"
     ]
    },
    {
     "data": {
      "text/plain": [
       "54"
      ]
     },
     "execution_count": 37,
     "metadata": {},
     "output_type": "execute_result"
    }
   ],
   "source": [
    "# A, mu, sigma, b, a for Gaussian + ax + b\n",
    "tau_param_0 = [ 1.46994839e+03, -6.45566469e-02,  4.47573870e-01, -1.67828922e+03,\n",
    "        1.30627439e+03]\n",
    "# Move everything past the minimum to a negative angle\n",
    "modulo = 1\n",
    "tau_wrapped2 = np.copy(tau)\n",
    "\n",
    "# shift left or right depending on peak relative to minimum\n",
    "if taumin_x_mid > taupeak_x_mid:\n",
    "    tau_wrap_shift = modulo - taumin_x_mid\n",
    "else:\n",
    "    tau_wrap_shift = 0 - taumin_x_mid\n",
    "    \n",
    "tau_wrapped2 += tau_wrap_shift\n",
    "\n",
    "print(f'\\nWrap shift: {tau_wrap_shift}')\n",
    "tau_ann_nom_add = -tau_wrap_shift\n",
    "\n",
    "# anything that got shifted beyond modulo or left of 0 should be wrapped accordingly.\n",
    "tau_wrapped2[tau_wrapped2 > modulo] -= modulo\n",
    "tau_wrapped2[tau_wrapped2 < 0] += modulo\n",
    "adjusted_units_orbits[5] = tau_wrapped2# update arr of orbital params\n",
    "\n",
    "# new xlabel for adjusted parameter\n",
    "if tau_wrap_shift > 0:\n",
    "    tau_wrapped2_xlabel = r'\\textbf{{$\\boldsymbol{{\\tau}} + {:.3f} \\pmod{{1}}$}}'.format(tau_wrap_shift)\n",
    "else:\n",
    "    tau_wrapped2_xlabel = r'\\textbf{{$\\boldsymbol{{\\tau}} - {:.3f} \\pmod{{1}}$}}'.format(np.abs(tau_wrap_shift))\n",
    "\n",
    "try:\n",
    "    tau_param\n",
    "except NameError:\n",
    "    \n",
    "    tau_param = element_hist(tau_wrapped2, 'tau', tau_var, tau_unit, tau_wrapped2_xlabel,\n",
    "                               tau_annotation_str, tau_i_bounds, bins=tau_bins, xlim=tau_xlim,\n",
    "                               plot_jump_hist=plot_tau_jump_hist,\n",
    "                             fit_peak=fit_tau_peak, plot_fit=plot_tau_fit, fit_cut_fracs=cut_tau_fracs,\n",
    "                             ann_x_frac=tau_ann_x_frac, param=tau_param_0, color=my_colors[14],\n",
    "                             jump_cut_frac=tau_jump_cut_frac,\n",
    "                            obj='hii1348b', sampler='MCMC_30M_final', alpha=1,\n",
    "                            dpi=dpi, ann_nom_add=tau_ann_nom_add)\n",
    "\n",
    "else:\n",
    "    tau_param = element_hist(tau_wrapped2, 'tau', tau_var, tau_unit, tau_wrapped2_xlabel,\n",
    "                           tau_annotation_str, tau_i_bounds, bins=tau_bins, xlim=tau_xlim,\n",
    "                           plot_jump_hist=plot_tau_jump_hist,\n",
    "                         fit_peak=fit_tau_peak, plot_fit=plot_tau_fit, fit_cut_fracs=cut_tau_fracs,\n",
    "                         ann_x_frac=tau_ann_x_frac, param=tau_param, color=my_colors[14],\n",
    "                         jump_cut_frac=tau_jump_cut_frac,\n",
    "                        obj='hii1348b', sampler='MCMC_30M_final', alpha=1,\n",
    "                        dpi=dpi, ann_nom_add=tau_ann_nom_add)\n",
    "\n",
    "\n",
    "print(repr(tau_param))\n",
    "\n",
    "plt.close()\n",
    "gc.collect()"
   ]
  },
  {
   "cell_type": "code",
   "execution_count": 38,
   "id": "cd6a017e-c7e9-4b60-bf12-182e519ac36d",
   "metadata": {},
   "outputs": [],
   "source": [
    "# deg, just for FFTKDE boundary condition (circular, in this case)\n",
    "tau_min=0.\n",
    "tau_max=1.\n",
    "tau_min_mirror=True ; tau_max_mirror=True ; tau_circ_param=False\n",
    "tau_fit_log=False ; tau_n_errp=2 ; tau_n_nom=2 ; tau_n_errm=1\n",
    "tau_interp_pc=5.\n",
    "\n",
    "tau_params = ['tau', tau_var, tau_unit, tau_wrapped2_xlabel, tau_annotation_str, tau_min, tau_max, tau_xlim, \\\n",
    "             tau_ann_x_frac, tau_min_mirror, tau_max_mirror, tau_circ_param, tau_fit_log, tau_interp_pc, \\\n",
    "              tau_n_nom, tau_n_errp, tau_n_errm, tau_ann_nom_add, None]\n",
    "\n",
    "# update row in dataframe for tau with the above parameters\n",
    "big_df.loc[tau_lab] = tau_params\n"
   ]
  },
  {
   "cell_type": "markdown",
   "id": "e30bea3b-9d3f-481c-acbd-673cafdf9086",
   "metadata": {},
   "source": [
    "Make the KDE plot!"
   ]
  },
  {
   "cell_type": "code",
   "execution_count": 39,
   "id": "fc31262b-f627-4005-83a1-78a4214d227a",
   "metadata": {},
   "outputs": [
    {
     "name": "stdout",
     "output_type": "stream",
     "text": [
      "Creating Plot for tau...\n",
      "Total Probability in bounds of: 68.0%\n",
      "tau = (0.5141 +0.1048 or -0.0738) \n",
      "\n",
      "saving figure...\n",
      "\n"
     ]
    },
    {
     "data": {
      "text/plain": [
       "0"
      ]
     },
     "execution_count": 39,
     "metadata": {},
     "output_type": "execute_result"
    }
   ],
   "source": [
    "tau_peak, tau_errp, tau_errm = fftkde_plot(\n",
    "    tau_wrapped2,\n",
    "    tau_params,\n",
    "    obj='hii1348b',\n",
    "    sampler=sampler,\n",
    "    color=my_colors[10], \n",
    "    dpi=dpi,\n",
    "    bw_rule='silvermans',\n",
    "    jpeg=True,\n",
    "    size_fac=size_fac,\n",
    "    fftkde_res=fftkde_res,\n",
    "    lw=lw\n",
    ")\n",
    "\n",
    "big_df.loc[tau_lab, 'peak'] = tau_peak\n",
    "plt.close()\n",
    "gc.collect()\n"
   ]
  },
  {
   "cell_type": "markdown",
   "id": "7d90bd5f-3821-4052-992d-5f28e6eeaa07",
   "metadata": {},
   "source": [
    "# Parallax $\\pi$"
   ]
  },
  {
   "cell_type": "code",
   "execution_count": 40,
   "id": "a273f814-a181-4fd0-92e4-1c60bd64fd39",
   "metadata": {},
   "outputs": [],
   "source": [
    "# variable and units for the orbital element being plotted\n",
    "plx_var = 'pi'\n",
    "plx_unit = 'mas'\n",
    "plx_lab = param_list[6]\n",
    "\n",
    "# plot labels, annotations, limits, bins\n",
    "plx_xlabel = r'\\textbf{$\\boldsymbol{\\pi}$ (mas)}'\n",
    "plx_annotation_str = r'$\\mathbf{{ \\boldsymbol{{\\pi}} = {:g} \\substack{{+{:g} \\\\ \\bm{{-}}{:g}}}}}$ \\textbf{{mas}}'\n",
    "plx_ann_nom_add=0\n",
    "plx_ann_x_frac = 0.025\n",
    "plx_xlim = np.array([6.875, 7.075])# + np.array([-1*((7.1-6.85)/2), ((7.1-6.85)/2)]) # range to plot on the x-axis (domain, I guess)\n",
    "plx_bins = 250\n",
    "\n",
    "# 68% credible interval bounds in histogram indices (printed below!)\n",
    "plx_i_bounds = (98, 161)\n",
    "\n",
    "# histogram y-jumps\n",
    "plot_plx_jump_hist = False\n",
    "plx_jump_cut_frac = 0.08\n",
    "\n",
    "# Gaussian fitting\n",
    "fit_plx_peak = False\n",
    "\n",
    "if fit_plx_peak:\n",
    "    plot_plx_fit = False\n",
    "else:\n",
    "    plot_plx_fit = False\n",
    "    \n",
    "cut_plx_fit_pc_l = 1.1\n",
    "cut_plx_fit_pc_r = 1.2\n",
    "cut_plx_fracs = (1 - cut_plx_fit_pc_l/100, 1 + cut_plx_fit_pc_r/100)\n"
   ]
  },
  {
   "cell_type": "code",
   "execution_count": 42,
   "id": "f10ce66f-5385-46c1-bff7-6874e204a1a6",
   "metadata": {},
   "outputs": [
    {
     "name": "stdout",
     "output_type": "stream",
     "text": [
      "element: [7.02003673 6.99669472 6.97379926 ... 6.9510119  6.99295299 6.99669053]\n",
      "bins: 250\n",
      "None\n"
     ]
    },
    {
     "data": {
      "text/plain": [
       "2635"
      ]
     },
     "execution_count": 42,
     "metadata": {},
     "output_type": "execute_result"
    }
   ],
   "source": [
    "# A, mu, sigma, b, a for Gaussian + ax + b\n",
    "plx_param_0 = [1.30738883e+01,  6.97934077e+00,  1.00744775e-03,  3.54156245e+00,\n",
    "       -5.39921269e-01]\n",
    "\n",
    "# fit_x = np.linspace(*plx_xlim, 1_000)\n",
    "# plt.plot(fit_x, gaussian(fit_x, *plx_param_0))\n",
    "\n",
    "try:\n",
    "    plx_param\n",
    "    \n",
    "except NameError:\n",
    "    \n",
    "    plx_param = element_hist(plx, 'i', plx_var, plx_unit, plx_xlabel, plx_annotation_str,\n",
    "                             plx_i_bounds, bins=plx_bins, xlim=plx_xlim, plot_jump_hist=plot_plx_jump_hist,\n",
    "                             fit_peak=fit_plx_peak, plot_fit=plot_plx_fit, fit_cut_fracs=cut_plx_fracs,\n",
    "                             ann_x_frac=plx_ann_x_frac, param=plx_param_0, color=my_colors[9],\n",
    "                             jump_cut_frac=plx_jump_cut_frac,\n",
    "                            obj='hii1348b', sampler='MCMC_30M_final', alpha=0.8,\n",
    "                            dpi=dpi)\n",
    "else:\n",
    "\n",
    "    plx_param = element_hist(plx, 'i', plx_var, plx_unit, plx_xlabel, plx_annotation_str,\n",
    "                             plx_i_bounds, bins=plx_bins, xlim=plx_xlim, plot_jump_hist=plot_plx_jump_hist,\n",
    "                             fit_peak=fit_plx_peak, plot_fit=plot_plx_fit, fit_cut_fracs=cut_plx_fracs,\n",
    "                             ann_x_frac=plx_ann_x_frac, param=plx_param, color=my_colors[9],\n",
    "                             jump_cut_frac=plx_jump_cut_frac,\n",
    "                            obj='hii1348b', sampler='MCMC_30M_final', alpha=0.8,\n",
    "                            dpi=dpi)\n",
    "        \n",
    "print(repr(plx_param))\n",
    "plt.close()\n",
    "gc.collect()\n"
   ]
  },
  {
   "cell_type": "code",
   "execution_count": 43,
   "id": "feabc589-b713-42ae-ab37-7fbab0c9c72a",
   "metadata": {},
   "outputs": [],
   "source": [
    "# deg, just for FFTKDE boundary condition\n",
    "# I'm using +- 4 sigma (larger of asymmetric errors)\n",
    "plx_min=6.8265\n",
    "plx_max=7.1225\n",
    "plx_min_mirror=False ; plx_max_mirror=False ; plx_circ_param=False\n",
    "plx_fit_log=False ; plx_n_errp=2 ; plx_n_nom=4 ; plx_n_errm=2\n",
    "plx_interp_pc=0.5\n",
    "\n",
    "plx_params = ['plx', plx_var, plx_unit, plx_xlabel, plx_annotation_str, plx_min, plx_max, plx_xlim, \\\n",
    "             plx_ann_x_frac, plx_min_mirror, plx_max_mirror, plx_circ_param, plx_fit_log, plx_interp_pc, \\\n",
    "              plx_n_nom, plx_n_errp, plx_n_errm, plx_ann_nom_add, None]\n",
    "\n",
    "# update row in dataframe for plx with the above parameters\n",
    "big_df.loc[plx_lab] = plx_params\n"
   ]
  },
  {
   "cell_type": "markdown",
   "id": "058d1eb2-85f7-4eb8-8abf-b04f2139ab75",
   "metadata": {},
   "source": [
    "Make the KDE plot!"
   ]
  },
  {
   "cell_type": "code",
   "execution_count": 44,
   "id": "f7cc6ca7-4c41-48ef-94b5-d32e704ed738",
   "metadata": {},
   "outputs": [
    {
     "name": "stdout",
     "output_type": "stream",
     "text": [
      "Creating Plot for plx...\n",
      "Total Probability in bounds of: 68.0%\n",
      "pi = (6.9752 +0.0357 or -0.0256) mas\n",
      "\n",
      "saving figure...\n",
      "\n"
     ]
    },
    {
     "data": {
      "text/plain": [
       "0"
      ]
     },
     "execution_count": 44,
     "metadata": {},
     "output_type": "execute_result"
    }
   ],
   "source": [
    "plx_peak, plx_errp, plx_errm = fftkde_plot(\n",
    "    plx,\n",
    "    plx_params,\n",
    "    obj='hii1348b',\n",
    "    sampler=sampler,\n",
    "    color=my_colors[10], \n",
    "    dpi=dpi,\n",
    "    bw_rule='silvermans',\n",
    "    jpeg=True,\n",
    "    size_fac=size_fac,\n",
    "    fftkde_res=fftkde_res,\n",
    "    lw=lw\n",
    ")\n",
    "\n",
    "big_df.loc[plx_lab, 'peak'] = plx_peak\n",
    "plt.close()\n",
    "gc.collect()\n"
   ]
  },
  {
   "cell_type": "markdown",
   "id": "78ff3bca-e1c8-4ea8-a03a-14d63dd6d522",
   "metadata": {},
   "source": [
    "# Total Mass $M_\\mathrm{tot}$"
   ]
  },
  {
   "cell_type": "code",
   "execution_count": 45,
   "id": "76ec5575-f4fd-4d83-be96-bb0fcc27683a",
   "metadata": {},
   "outputs": [],
   "source": [
    "# variable and units for the orbital element being plotted\n",
    "mtot_var = 'Mtot'\n",
    "mtot_unit = 'M_Sun'\n",
    "mtot_lab = param_list[7]\n",
    "\n",
    "# plot labels, annotations, limits, bins\n",
    "mtot_xlabel = r'\\textbf{$\\mathrm{M_\\text{tot}}$ ($\\mathrm{M}_\\mathbf{\\odot}$)}'\n",
    "mtot_annotation_str = r'\\textbf{{$\\mathbf{{ \\mathrm{{\\mathbf{{M_\\text{{\\textbf{{tot}}}}}}}} = {:g} \\substack{{+{:g} \\\\ \\bm{{-}}{:g} }} }} \\ \\mathrm{{M_\\odot}}$}}'\n",
    "mtot_ann_nom_add = 0\n",
    "mtot_ann_x_frac = 0.66\n",
    "mtot_xlim = (1.05, 1.55) # range to plot on the x-axis (domain, I guess)\n",
    "mtot_bins = 250\n",
    "\n",
    "# 68% credible interval bounds in histogram indices (printed below!)\n",
    "mtot_i_bounds = ( 93, 149)\n",
    "\n",
    "# histogram y-jumps\n",
    "plot_mtot_jump_hist = False\n",
    "mtot_jump_cut_frac = 0.01\n",
    "\n",
    "# Gaussian fitting\n",
    "fit_mtot_peak = False\n",
    "\n",
    "if fit_mtot_peak:\n",
    "    plot_mtot_fit = False\n",
    "else:\n",
    "    plot_mtot_fit = False\n",
    "    \n",
    "cut_mtot_fit_pc_l = 20\n",
    "cut_mtot_fit_pc_r = 17\n",
    "cut_mtot_fracs = (1 - cut_mtot_fit_pc_l/100, 1 + cut_mtot_fit_pc_r/100)"
   ]
  },
  {
   "cell_type": "code",
   "execution_count": 46,
   "id": "c0b1774a-6f7b-47ae-9984-a2a624efd60e",
   "metadata": {},
   "outputs": [
    {
     "name": "stdout",
     "output_type": "stream",
     "text": [
      "element: [1.46599336 1.19257976 1.19328583 ... 1.25611321 1.29049496 1.20230641]\n",
      "bins: 250\n",
      "None\n"
     ]
    },
    {
     "data": {
      "text/plain": [
       "2626"
      ]
     },
     "execution_count": 46,
     "metadata": {},
     "output_type": "execute_result"
    }
   ],
   "source": [
    "# A, mu, var, b, a for Gaussian + ax + b\n",
    "mtot_param_0 = [ 4.44423254,  1.28830709,  0.00781643,  0.16844715, -0.10805732]\n",
    "\n",
    "# fit_x = np.linspace(*mtot_xlim, 1_000)\n",
    "# plt.plot(fit_x, gaussian(fit_x, *mtot_param_0))\n",
    "\n",
    "try:\n",
    "    mtot_param\n",
    "    \n",
    "except NameError:\n",
    "    \n",
    "    mtot_param = element_hist(mtot, 'i', mtot_var, mtot_unit, mtot_xlabel, mtot_annotation_str,\n",
    "                             mtot_i_bounds, bins=mtot_bins, xlim=mtot_xlim, plot_jump_hist=plot_mtot_jump_hist,\n",
    "                             fit_peak=fit_mtot_peak, plot_fit=plot_mtot_fit, fit_cut_fracs=cut_mtot_fracs,\n",
    "                             ann_x_frac=mtot_ann_x_frac, param=mtot_param_0, color=my_colors[9],\n",
    "                             jump_cut_frac=mtot_jump_cut_frac,\n",
    "                            obj='hii1348b', sampler='MCMC_30M_final', alpha=0.8,\n",
    "                            dpi=dpi)\n",
    "else:\n",
    "\n",
    "    mtot_param = element_hist(mtot, 'i', mtot_var, mtot_unit, mtot_xlabel, mtot_annotation_str,\n",
    "                             mtot_i_bounds, bins=mtot_bins, xlim=mtot_xlim, plot_jump_hist=plot_mtot_jump_hist,\n",
    "                             fit_peak=fit_mtot_peak, plot_fit=plot_mtot_fit, fit_cut_fracs=cut_mtot_fracs,\n",
    "                             ann_x_frac=mtot_ann_x_frac, param=mtot_param, color=my_colors[16],\n",
    "                             jump_cut_frac=mtot_jump_cut_frac,\n",
    "                            obj='hii1348b', sampler='MCMC_30M_final', alpha=0.8,\n",
    "                            dpi=dpi)\n",
    "        \n",
    "print(repr(mtot_param))\n",
    "plt.close()\n",
    "gc.collect()"
   ]
  },
  {
   "cell_type": "code",
   "execution_count": 47,
   "id": "03452d29-e6ca-409a-bcea-ba5a3eb4a50c",
   "metadata": {},
   "outputs": [],
   "source": [
    "# deg, just for FFTKDE boundary condition (circular, in this case)\n",
    "mtot_min=0.\n",
    "mtot_max=np.inf\n",
    "mtot_min_mirror=False ; mtot_max_mirror=False ; mtot_circ_param=False\n",
    "mtot_fit_log=False ; mtot_n_errp=1 ; mtot_n_nom=3 ; mtot_n_errm=2\n",
    "mtot_interp_pc=0.5\n",
    "\n",
    "mtot_params = ['mtot', mtot_var, mtot_unit, mtot_xlabel, mtot_annotation_str, mtot_min, mtot_max, mtot_xlim, \\\n",
    "             mtot_ann_x_frac, mtot_min_mirror, mtot_max_mirror, mtot_circ_param, mtot_fit_log, mtot_interp_pc, \\\n",
    "              mtot_n_nom, mtot_n_errp, mtot_n_errm, mtot_ann_nom_add, None]\n",
    "\n",
    "# update row in dataframe for mtot with the above parameters\n",
    "big_df.loc[mtot_lab] = mtot_params\n"
   ]
  },
  {
   "cell_type": "code",
   "execution_count": 48,
   "id": "eac705dc-2bc7-412f-8948-37605f0ba356",
   "metadata": {},
   "outputs": [],
   "source": [
    "big_df.to_csv('big_df.csv')"
   ]
  },
  {
   "cell_type": "markdown",
   "id": "135d8fd9-87b4-443a-b088-991c9326c12c",
   "metadata": {},
   "source": [
    "Make the KDE plot!"
   ]
  },
  {
   "cell_type": "code",
   "execution_count": 49,
   "id": "de33d5df-65d0-4842-873e-0c8edff79d97",
   "metadata": {},
   "outputs": [
    {
     "name": "stdout",
     "output_type": "stream",
     "text": [
      "Creating Plot for mtot...\n",
      "Total Probability in bounds of: 68.0%\n",
      "Mtot = (1.2995 +0.0774 or -0.1000) M_Sun\n",
      "\n",
      "saving figure...\n",
      "\n"
     ]
    },
    {
     "data": {
      "text/plain": [
       "0"
      ]
     },
     "execution_count": 49,
     "metadata": {},
     "output_type": "execute_result"
    }
   ],
   "source": [
    "ylab_offset = -0.13\n",
    "label_margin = -11.15 * ylab_offset\n",
    "mtot_ann_str = r'\\textbf{$\\mathbf{ \\mathrm{\\mathbf{M_\\text{\\textbf{tot}}}} = 1.30 \\substack{+0.08 \\\\ \\bm{-}0.10 } } \\ \\mathrm{M_\\odot}$}'\n",
    "\n",
    "mtot_peak, mtot_errp, mtot_errm = fftkde_plot(\n",
    "    mtot,\n",
    "    mtot_params,\n",
    "    obj='hii1348b',\n",
    "    sampler=sampler,\n",
    "    color='k', \n",
    "    dpi=dpi,\n",
    "    bw_rule='silvermans',\n",
    "    jpeg=False,\n",
    "    save=True,\n",
    "    annotate=False,\n",
    "    show_xlabel=True,\n",
    "    show_ylabel=False,\n",
    "    size_fac=size_fac,\n",
    "    fftkde_res=fftkde_res,\n",
    "    lw=lw,\n",
    "    fill_alpha=0.2,\n",
    "    pad_inches=0.0,\n",
    "    base_size=10,\n",
    "    base_margin=0.4,\n",
    "    label_margin=label_margin,\n",
    "    ylab_offset=ylab_offset,\n",
    "    ann_title=True,\n",
    "    ann_str=mtot_ann_str,\n",
    "    no_ticks=True,\n",
    "    no_tick_labels=True,\n",
    "    plot_hist=True,\n",
    "    hist_bins=400,\n",
    "    hist_color='lightgray'\n",
    ")\n",
    "\n",
    "big_df.loc[mtot_lab, 'peak'] = mtot_peak\n",
    "plt.close()\n",
    "gc.collect()\n"
   ]
  },
  {
   "cell_type": "markdown",
   "id": "3fa7989b-58a4-4fa1-b642-b0ea7b46141e",
   "metadata": {},
   "source": [
    "# 2D KDEs:"
   ]
  },
  {
   "cell_type": "code",
   "execution_count": 50,
   "id": "201b8d98-f2bb-47db-991e-d486f27d7acc",
   "metadata": {},
   "outputs": [
    {
     "name": "stdout",
     "output_type": "stream",
     "text": [
      "[0.32465247 0.60653066 0.8824969 ]\n",
      "containing [67.53475326416503, 39.346934028736655, 11.750309741540455]% of the samples\n"
     ]
    }
   ],
   "source": [
    "std_norm_levels = np.array([np.exp(-(n_sigma)**2/2) for n_sigma in [0.5, 1, 1.5]])[::-1]\n",
    "print(std_norm_levels)\n",
    "print(f'containing {[100*(1-std_norm_level) for std_norm_level in std_norm_levels]}% of the samples')"
   ]
  },
  {
   "cell_type": "markdown",
   "id": "8ab05bea-ee7f-4f41-a705-80de68e8ae92",
   "metadata": {},
   "source": [
    "Implementation with help from claude.ai to re-factor the identification of scatter points for speed"
   ]
  },
  {
   "cell_type": "code",
   "execution_count": 51,
   "id": "b4b995b9-ddaf-4704-a4bd-b78edfcff328",
   "metadata": {},
   "outputs": [],
   "source": [
    "# User input\n",
    "#-----------------\n",
    "spine_color = 'k'\n",
    "ticklab_color = 'k'\n",
    "tick_color = 'k'\n",
    "norm = 2 # Euclidian norm\n",
    "kernel = 'gaussian'\n",
    "# grid_points per axis\n",
    "grid_points = 2**11# max is 2**12\n",
    "N = 150 # number of contours for contourf., max 997 for saving 3/1000 for the un-filled contours?\n",
    "corner_dpi = dpi # 150 seems all right, at least for the corner plot. (and > 10x10 in.)\n",
    "bw_rule = 'silvermans'\n",
    "plot_raw_kde = False\n",
    "#-----------------\n"
   ]
  },
  {
   "cell_type": "code",
   "execution_count": 53,
   "id": "b774aa9e-27b4-4208-a176-df5d4dd13c84",
   "metadata": {},
   "outputs": [
    {
     "data": {
      "text/plain": [
       "0"
      ]
     },
     "execution_count": 53,
     "metadata": {},
     "output_type": "execute_result"
    }
   ],
   "source": [
    "plt.close(\"all\")\n",
    "gc.collect()"
   ]
  },
  {
   "cell_type": "code",
   "execution_count": 54,
   "id": "adb99037-3018-4ebf-a5d7-071e7b0de2de",
   "metadata": {},
   "outputs": [
    {
     "data": {
      "text/plain": [
       "array(['sma1', 'ecc1', 'inc1', 'aop1', 'pan1', 'tau1', 'plx', 'mtot'],\n",
       "      dtype='<U4')"
      ]
     },
     "execution_count": 54,
     "metadata": {},
     "output_type": "execute_result"
    }
   ],
   "source": [
    "param_list"
   ]
  },
  {
   "cell_type": "code",
   "execution_count": 55,
   "id": "fb5cfea0-59fe-4130-98ad-6322ce9b465e",
   "metadata": {},
   "outputs": [
    {
     "name": "stdout",
     "output_type": "stream",
     "text": [
      "Making a diagonal plot for sma1\n",
      "Creating Plot for sma...\n",
      "fitting log\n",
      "Total Probability in bounds of: 68.0%\n",
      "a = (142.8634 +125.0619 or -30.7019) au\n",
      "\n",
      "saving figure...\n",
      "\n",
      "Making off-diagonal plot for ecc1 v. sma1\n",
      "mirroring at min_x value: 1.6428522415362847\n",
      "mirroring at min_y value: 0\n",
      "mirroring at max_y value: 1\n",
      "x_bc_count: 1\n",
      "y_bc_count: 2\n",
      "grid_points before adjustment: 2048\n",
      "grid_points after adjustment: 8192\n",
      "computing kde...\n",
      "resampling grid...\n",
      "finding ISJ bws...\n",
      "computing kde for resample...\n",
      "preparing x y z to plot...\n",
      "np.min(x) before mask: -1.3468927687693206\n",
      "np.max(x) before mask: 5.8522793388214325\n",
      "\n",
      "np.min(y) before mask: -2.4512494216502914\n",
      "np.max(y) before mask: 3.4512494216501213\n",
      "\n",
      "fit_param_min_x: 1.6428522415362847\n",
      "fit_param_max_x: inf\n",
      "\n",
      "fit_param_min_y: 0\n",
      "fit_param_max_y: 1\n",
      "np.min(x) after mask and un-log (if appl.): 43.971115314109205\n",
      "np.max(x) after mask and un-log (if appl.): 711671.1143342905\n",
      "\n",
      "np.min(y) after mask and un-log (if appl.): 0.00025846077041502546\n",
      "np.max(y) after mask and un-log (if appl.): 0.9997415392294153\n",
      "normalizing KDE...\n",
      "adding contours\n",
      "Finding scatter points outside first contour...\n",
      "\n",
      "hole_sums: [0.]\n",
      "\n"
     ]
    },
    {
     "data": {
      "application/vnd.jupyter.widget-view+json": {
       "model_id": "4f5cb7a8fe7c49cf999730fca1e67e8b",
       "version_major": 2,
       "version_minor": 0
      },
      "text/plain": [
       "  0%|                                                                                                        |…"
      ]
     },
     "metadata": {},
     "output_type": "display_data"
    },
    {
     "name": "stdout",
     "output_type": "stream",
     "text": [
      "n_contours: 1\n",
      "np.max(outside): 1.0\n",
      "np.min(outside): -1.0\n",
      "\n",
      "Number of points outside: 473144\n",
      "plotting filled contours...\n",
      "scattering points...\n",
      "Error in off-diagonal plot (0, 1): '>' not supported between instances of 'float' and 'NoneType'\n",
      "Making off-diagonal plot for inc1 v. sma1\n",
      "mirroring at min_x value: 1.6428522415362847\n",
      "mirroring at min_y value: 90\n",
      "mirroring at max_y value: 180\n",
      "x_bc_count: 1\n",
      "y_bc_count: 2\n",
      "grid_points before adjustment: 2048\n",
      "grid_points after adjustment: 8192\n",
      "computing kde...\n",
      "resampling grid...\n",
      "finding ISJ bws...\n",
      "computing kde for resample...\n",
      "preparing x y z to plot...\n",
      "np.min(x) before mask: -1.3356857223712733\n",
      "np.max(x) before mask: 5.996490678890371\n",
      "\n",
      "np.min(y) before mask: -104.944603633068\n",
      "np.max(y) before mask: 374.9446036330741\n",
      "\n",
      "fit_param_min_x: 1.6428522415362847\n",
      "fit_param_max_x: inf\n",
      "\n",
      "fit_param_min_y: 90\n",
      "fit_param_max_y: 180\n",
      "np.min(x) after mask and un-log (if appl.): 43.9920900305046\n",
      "np.max(x) after mask and un-log (if appl.): 991952.0490928673\n",
      "\n",
      "np.min(y) after mask and un-log (if appl.): 90.03418794082052\n",
      "np.max(y) after mask and un-log (if appl.): 179.96581205918557\n",
      "normalizing KDE...\n",
      "adding contours\n",
      "Finding scatter points outside first contour...\n",
      "\n",
      "hole_sums: [0.]\n",
      "\n"
     ]
    },
    {
     "data": {
      "application/vnd.jupyter.widget-view+json": {
       "model_id": "0d067e98c89d4294bb30f14eaa9c8e53",
       "version_major": 2,
       "version_minor": 0
      },
      "text/plain": [
       "  0%|                                                                                                        |…"
      ]
     },
     "metadata": {},
     "output_type": "display_data"
    },
    {
     "name": "stdout",
     "output_type": "stream",
     "text": [
      "n_contours: 1\n",
      "np.max(outside): 1.0\n",
      "np.min(outside): -1.0\n",
      "\n",
      "Number of points outside: 427721\n",
      "plotting filled contours...\n",
      "scattering points...\n",
      "saving figure...\n",
      "\n",
      "Making a diagonal plot for ecc1\n",
      "Creating Plot for ecc...\n",
      "Total Probability in bounds of: 68.0%\n",
      "e = (0.7788 +0.1187 or -0.2914) \n",
      "\n",
      "saving figure...\n",
      "\n",
      "Making off-diagonal plot for inc1 v. ecc1\n",
      "mirroring at min_x value: 0\n",
      "mirroring at max_x value: 1\n",
      "mirroring at min_y value: 90\n",
      "mirroring at max_y value: 180\n",
      "x_bc_count: 2\n",
      "y_bc_count: 2\n",
      "grid_points before adjustment: 2048\n",
      "grid_points after adjustment: 8192\n",
      "computing kde...\n",
      "resampling grid...\n",
      "finding ISJ bws...\n",
      "computing kde for resample...\n",
      "preparing x y z to plot...\n",
      "np.min(x) before mask: -1.9619255729547032\n",
      "np.max(x) before mask: 3.0253581520187423\n",
      "\n",
      "np.min(y) before mask: -61.50799846062995\n",
      "np.max(y) before mask: 336.6164052136552\n",
      "\n",
      "fit_param_min_x: 0\n",
      "fit_param_max_x: 1\n",
      "\n",
      "fit_param_min_y: 90\n",
      "fit_param_max_y: 180\n",
      "np.min(x) after mask and un-log (if appl.): 0.00047406635544389175\n",
      "np.max(x) after mask and un-log (if appl.): 0.9996356574531642\n",
      "\n",
      "np.min(y) after mask and un-log (if appl.): 90.04271459716776\n",
      "np.max(y) after mask and un-log (if appl.): 179.96215627674627\n",
      "normalizing KDE...\n",
      "adding contours\n",
      "Finding scatter points outside first contour...\n",
      "\n",
      "hole_sums: [-1. -1.]\n",
      "\n"
     ]
    },
    {
     "data": {
      "application/vnd.jupyter.widget-view+json": {
       "model_id": "82c4ed2a97704abb849a429b838ca20c",
       "version_major": 2,
       "version_minor": 0
      },
      "text/plain": [
       "  0%|                                                                                                        |…"
      ]
     },
     "metadata": {},
     "output_type": "display_data"
    },
    {
     "name": "stdout",
     "output_type": "stream",
     "text": [
      "n_contours: 2\n",
      "np.max(outside): 0.0\n",
      "np.min(outside): -2.0\n",
      "\n",
      "Number of points outside: 316060\n",
      "plotting filled contours...\n",
      "scattering points...\n",
      "Error in off-diagonal plot (1, 2): '>' not supported between instances of 'float' and 'NoneType'\n",
      "Making a diagonal plot for inc1\n",
      "Creating Plot for inc...\n",
      "Total Probability in bounds of: 68.0%\n",
      "i = (114.9346 +25.0358 or -9.0230) deg\n",
      "\n",
      "saving figure...\n",
      "\n"
     ]
    }
   ],
   "source": [
    "ylab_offset = -0.13\n",
    "label_margin = -11.15 * ylab_offset\n",
    "\n",
    "# run generate_corner_plots\n",
    "if __name__ == '__main__':\n",
    "    generate_corner_plots(\n",
    "        #param_list=param_list,\n",
    "        param_list=param_list[0:3],\n",
    "        adjusted_units_orbits=adjusted_units_orbits,\n",
    "        big_df=big_df,\n",
    "        grid_points=grid_points,\n",
    "        N=N,\n",
    "        std_norm_levels=std_norm_levels,\n",
    "        corner_dpi=corner_dpi,\n",
    "        size_fac=size_fac,\n",
    "        sampler=sampler,\n",
    "        bw_rule=bw_rule,\n",
    "        plot_raw_kde=plot_raw_kde,\n",
    "        fftkde_res=fftkde_res,\n",
    "        scatter_alpha=100/510,\n",
    "        lw=lw,\n",
    "        min_contour_lw=0.75,\n",
    "        scatter_cmp_val=0.55,\n",
    "        fill_alpha=0.2,\n",
    "        pad_inches=0.0,\n",
    "        base_size=10,\n",
    "        base_margin=0.4,\n",
    "        label_margin=label_margin,\n",
    "        ylab_offset=ylab_offset,\n",
    "        annotate=False,\n",
    "        ann_title=True,\n",
    "        cmap_min=0.1,\n",
    "        show_peak_x_mid=True,\n",
    "        show_peak_y_mid=True,\n",
    "        presentation=False,\n",
    "        ecc_xlabel=ecc_xlabel,\n",
    "        inc_xlabel=inc_xlabel\n",
    "        \n",
    "    )"
   ]
  },
  {
   "cell_type": "code",
   "execution_count": 56,
   "id": "50d7bb89-52e7-42ba-858d-1add1b2dbc85",
   "metadata": {},
   "outputs": [],
   "source": [
    "plt.close(\"all\")"
   ]
  },
  {
   "cell_type": "code",
   "execution_count": 57,
   "id": "45cf966f-b2ea-4e9c-ae40-e15e5e48bbd7",
   "metadata": {},
   "outputs": [
    {
     "data": {
      "text/plain": [
       "14991"
      ]
     },
     "execution_count": 57,
     "metadata": {},
     "output_type": "execute_result"
    }
   ],
   "source": [
    "gc.collect()"
   ]
  },
  {
   "cell_type": "code",
   "execution_count": null,
   "id": "5f722cf2-3f7f-49c0-a938-043b0cd3b8cf",
   "metadata": {},
   "outputs": [],
   "source": []
  }
 ],
 "metadata": {
  "kernelspec": {
   "display_name": "Python [conda env:orbit_fitting]",
   "language": "python",
   "name": "conda-env-orbit_fitting-py"
  },
  "language_info": {
   "codemirror_mode": {
    "name": "ipython",
    "version": 3
   },
   "file_extension": ".py",
   "mimetype": "text/x-python",
   "name": "python",
   "nbconvert_exporter": "python",
   "pygments_lexer": "ipython3",
   "version": "3.12.2"
  }
 },
 "nbformat": 4,
 "nbformat_minor": 5
}
